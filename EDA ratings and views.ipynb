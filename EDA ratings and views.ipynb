{
 "cells": [
  {
   "cell_type": "code",
   "execution_count": null,
   "id": "499b626d",
   "metadata": {},
   "outputs": [],
   "source": [
    "import numpy as np\n",
    "import pandas as pd\n",
    "\n",
    "import matplotlib.pyplot as plt\n",
    "import seaborn as sns\n",
    "\n",
    "sns.set()\n",
    "\n",
    "pd.set_option('display.max_rows', 200)\n",
    "pd.set_option('display.max_columns', None)"
   ]
  },
  {
   "cell_type": "code",
   "execution_count": null,
   "id": "8301c32b",
   "metadata": {},
   "outputs": [],
   "source": [
    "target = pd.read_excel('assets/NetflixShows.xlsx')\n",
    "target.head()"
   ]
  },
  {
   "cell_type": "code",
   "execution_count": null,
   "id": "e30d863d",
   "metadata": {},
   "outputs": [],
   "source": [
    "rating_description = target[['rating', 'ratingDescription']].drop_duplicates()"
   ]
  },
  {
   "cell_type": "code",
   "execution_count": null,
   "id": "f074d1d9",
   "metadata": {},
   "outputs": [],
   "source": []
  },
  {
   "cell_type": "code",
   "execution_count": null,
   "id": "2ed3a3d3",
   "metadata": {},
   "outputs": [],
   "source": [
    "df = pd.read_csv('assets/netflix_movies_with_imdb.tsv', sep='\\t')\n",
    "df['rating'] = df.rating_small.combine_first(df.rating_big.rename('rating_small'))\n",
    "df = pd.merge(df, rating_description, on='rating', how='left')\n",
    "df.head()"
   ]
  },
  {
   "cell_type": "code",
   "execution_count": null,
   "id": "a99cadec",
   "metadata": {},
   "outputs": [],
   "source": [
    "df.shape"
   ]
  },
  {
   "cell_type": "code",
   "execution_count": null,
   "id": "b5d9faff",
   "metadata": {},
   "outputs": [],
   "source": [
    "df.rating_small.unique()"
   ]
  },
  {
   "cell_type": "code",
   "execution_count": null,
   "id": "6bc578fd",
   "metadata": {},
   "outputs": [],
   "source": [
    "set(df.rating_big.unique()).difference(df.rating_small.unique())"
   ]
  },
  {
   "cell_type": "code",
   "execution_count": null,
   "id": "41e5e5da",
   "metadata": {},
   "outputs": [],
   "source": [
    "df.rating_big.unique()"
   ]
  },
  {
   "cell_type": "code",
   "execution_count": null,
   "id": "57278e4e",
   "metadata": {},
   "outputs": [],
   "source": []
  },
  {
   "cell_type": "code",
   "execution_count": null,
   "id": "020b48eb",
   "metadata": {},
   "outputs": [],
   "source": [
    "fig, ax = plt.subplots(figsize=(8, 5))\n",
    "\n",
    "ax = sns.barplot(df, x='rating', y='averageRating', \n",
    "                 hue='ratingDescription',\n",
    "                 palette=\"coolwarm\", dodge=False)\n",
    "\n",
    "plt.legend(loc='upper center', ncols=6)\n",
    "\n",
    "for bar in ax.containers:\n",
    "    ax.bar_label(bar, fmt='%.1f', label_type='center')#, bar[0].get_height())\n",
    "\n",
    "fig.tight_layout()\n",
    "# fig.savefig('graph.png', dpi=300, facecolor='w')"
   ]
  },
  {
   "cell_type": "code",
   "execution_count": null,
   "id": "45257d26",
   "metadata": {},
   "outputs": [],
   "source": [
    "df.averageRating.hist()"
   ]
  },
  {
   "cell_type": "code",
   "execution_count": null,
   "id": "904f8809",
   "metadata": {},
   "outputs": [],
   "source": [
    "group = {'TV-PG':'kids', 'TV-MA':'adults', 'TV-14':'teens', 'NR':'adults', 'PG-13':'teens', \n",
    "         'TV-Y':'kids', 'R':'adults', 'TV-G':'kids',\n",
    "       'PG':'kids', 'TV-Y7':'kids', 'G':'kids', 'NC-17':'adults', 'TV-Y7-FV':'kids', 'UR':'kids'}\n",
    "\n",
    "rating_group_num = {'kids':0, 'teens':14, 'adults':18}\n",
    "\n",
    "df['rating_group'] = df.rating.apply(lambda x: group.get(x, np.nan))\n",
    "df['rating_group_num'] = df.rating_group.apply(lambda x: rating_group_num.get(x, np.nan))\n",
    "df.rating_group.hist()"
   ]
  },
  {
   "cell_type": "code",
   "execution_count": null,
   "id": "e1a3bbf7",
   "metadata": {},
   "outputs": [],
   "source": [
    "sns.kdeplot(df, x='averageRating', hue='rating_group')"
   ]
  },
  {
   "cell_type": "code",
   "execution_count": null,
   "id": "a4581648",
   "metadata": {},
   "outputs": [],
   "source": []
  },
  {
   "cell_type": "code",
   "execution_count": null,
   "id": "31020041",
   "metadata": {},
   "outputs": [],
   "source": [
    "target = df.loc[df.dataset_small == 'small']\n",
    "print(target.shape)"
   ]
  },
  {
   "cell_type": "code",
   "execution_count": null,
   "id": "217ea43d",
   "metadata": {},
   "outputs": [],
   "source": [
    "full = df.loc[df.dataset_big == 'big']\n",
    "print(full.shape)"
   ]
  },
  {
   "cell_type": "code",
   "execution_count": null,
   "id": "403a91ce",
   "metadata": {},
   "outputs": [],
   "source": [
    "ratings = target.groupby(['release_year', 'rating_group']).count()"
   ]
  },
  {
   "cell_type": "code",
   "execution_count": null,
   "id": "f7f84c20",
   "metadata": {},
   "outputs": [],
   "source": [
    "sns.kdeplot(data=target.sort_values('rating_group_num'), x='release_year', hue='rating_group', \n",
    "            multiple='fill', clip=[1940, 2017])"
   ]
  },
  {
   "cell_type": "code",
   "execution_count": null,
   "id": "08b33610",
   "metadata": {},
   "outputs": [],
   "source": [
    "sns.kdeplot(data=full.sort_values('rating_group_num'), x='release_year', hue='rating_group', \n",
    "            multiple='fill', clip=[1940, 2017])"
   ]
  },
  {
   "cell_type": "code",
   "execution_count": null,
   "id": "bd33bf7a",
   "metadata": {},
   "outputs": [],
   "source": [
    "fig, ax = plt.subplots(1, 2, figsize=(10,5))\n",
    "labels = ['kids', 'teens', 'adults']\n",
    "\n",
    "sns.kdeplot(data=target.sort_values('rating_group_num'), x='release_year', hue='rating_group', \n",
    "            multiple='fill', clip=[1940, 2017], ax=ax[0])\n",
    "\n",
    "sns.kdeplot(data=full.sort_values('rating_group_num'), x='release_year', hue='rating_group', \n",
    "            multiple='fill', clip=[1940, 2017], ax=ax[1])\n",
    "\n",
    "ax[0].set_title('1000 Shows Dataset')\n",
    "ax[1].set_title('8000 Shows Dataset')"
   ]
  },
  {
   "cell_type": "code",
   "execution_count": null,
   "id": "7d56dab6",
   "metadata": {},
   "outputs": [],
   "source": [
    "def get_pivot_table_scaled(df):\n",
    "    pivot = pd.pivot_table(df, values='title', index='release_year',\n",
    "                           columns='rating_group', aggfunc='count')\n",
    "    pivot['total'] = pivot.sum(axis=1)\n",
    "    pivot = pivot.fillna(0).astype(float)\n",
    "    pivot.loc[:, 'adults':'teens'] = pivot.loc[:, 'adults':'teens'].values / pivot.total.values.reshape(-1,1) * 100\n",
    "    return pivot\n",
    "\n",
    "pivot_target = get_pivot_table_scaled(target)\n",
    "pivot_full = get_pivot_table_scaled(full)\n",
    "pivot_full.tail()"
   ]
  },
  {
   "cell_type": "code",
   "execution_count": null,
   "id": "b0d6a347",
   "metadata": {},
   "outputs": [],
   "source": [
    "fig, ax = plt.subplots(1, 2, figsize=(10,5))\n",
    "labels = ['adults', 'teens', 'kids']\n",
    "\n",
    "ax[0].set_title('1000 Shows Dataset')\n",
    "ax[1].set_title('8000 Shows Dataset')\n",
    "\n",
    "ax[0].stackplot(pivot_target.index, \n",
    "                pivot_target['adults'], pivot_target['teens'], pivot_target['kids'],\n",
    "                labels=labels)\n",
    "\n",
    "ax[1].stackplot(pivot_full.index, \n",
    "                pivot_full['adults'], pivot_full['teens'], pivot_full['kids'],\n",
    "                labels=labels)\n",
    "\n",
    "\n",
    "# ax[0].set_xlim([2007, 2017])\n",
    "# ax[1].set_xlim([2007, 2017])\n",
    "\n",
    "ax[0].legend()\n",
    "\n",
    "ax[1].legend()"
   ]
  },
  {
   "cell_type": "code",
   "execution_count": null,
   "id": "4b78c56a",
   "metadata": {},
   "outputs": [],
   "source": [
    "fig, ax = plt.subplots(1, 2, figsize=(10,5))\n",
    "labels = ['adults', 'teens', 'kids']\n",
    "\n",
    "ax[0].set_title('1000 Shows Dataset')\n",
    "ax[1].set_title('8000 Shows Dataset')\n",
    "\n",
    "ax[0].stackplot(pivot_target.index, \n",
    "                pivot_target['adults'], pivot_target['teens'], pivot_target['kids'],\n",
    "                labels=labels)\n",
    "\n",
    "ax[1].stackplot(pivot_full.index, \n",
    "                pivot_full['adults'], pivot_full['teens'], pivot_full['kids'],\n",
    "                labels=labels)\n",
    "\n",
    "\n",
    "ax[0].set_xlim([2007, 2017])\n",
    "ax[1].set_xlim([2007, 2017])\n",
    "\n",
    "ax[0].legend()\n",
    "\n",
    "ax[1].legend()"
   ]
  },
  {
   "cell_type": "markdown",
   "id": "3ce60733",
   "metadata": {},
   "source": [
    "# просмотры"
   ]
  },
  {
   "cell_type": "code",
   "execution_count": null,
   "id": "e936cb2a",
   "metadata": {},
   "outputs": [],
   "source": [
    "views = pd.read_csv('assets/netflix-engagement-report.csv')\n",
    "print(views.shape)\n",
    "views.info()"
   ]
  },
  {
   "cell_type": "code",
   "execution_count": null,
   "id": "fec00fce",
   "metadata": {},
   "outputs": [],
   "source": [
    "views = views.rename(columns={x:x.lower().replace(' ', '_').replace('?', '') for x in views.columns})\n",
    "views = views.drop(columns=['unnamed:_6'])\n",
    "\n",
    "views = views.dropna(subset=['release_date'])\n",
    "\n",
    "views.views = views.views.str.replace(',', '').astype(int) / 1000000\n",
    "views.hours_viewed = views.hours_viewed.str.replace(',', '').astype(int) / 1000000\n",
    "\n",
    "views['release_year'] = views.release_date.apply(lambda x: x.split('-')[0]).astype(int)\n",
    "# views = views.query('release_year < 2018')\n",
    "\n",
    "views['full_title'] = views.title.copy()\n",
    "views['title'] = views.full_title.apply(lambda x: x.split(':')[0])\n",
    "views['season'] = views.full_title.apply(lambda x: x.split(':')[1] if ':' in x else '')\n",
    "\n",
    "print(views.shape)\n",
    "views.head()"
   ]
  },
  {
   "cell_type": "code",
   "execution_count": null,
   "id": "9c03bcf0",
   "metadata": {},
   "outputs": [],
   "source": [
    "views.release_year.hist()"
   ]
  },
  {
   "cell_type": "code",
   "execution_count": null,
   "id": "25abbfd9",
   "metadata": {},
   "outputs": [],
   "source": [
    "views.hours_viewed.hist(bins=100)"
   ]
  },
  {
   "cell_type": "code",
   "execution_count": null,
   "id": "0048cbac",
   "metadata": {},
   "outputs": [],
   "source": [
    "sns.pairplot(views)"
   ]
  },
  {
   "cell_type": "code",
   "execution_count": null,
   "id": "411245ab",
   "metadata": {},
   "outputs": [],
   "source": []
  },
  {
   "cell_type": "code",
   "execution_count": null,
   "id": "20ee4521",
   "metadata": {},
   "outputs": [],
   "source": [
    "views.dtypes"
   ]
  },
  {
   "cell_type": "code",
   "execution_count": null,
   "id": "e588ec0b",
   "metadata": {},
   "outputs": [],
   "source": [
    "views.describe()"
   ]
  },
  {
   "cell_type": "code",
   "execution_count": null,
   "id": "4f3ff550",
   "metadata": {},
   "outputs": [],
   "source": [
    "views.shape"
   ]
  },
  {
   "cell_type": "code",
   "execution_count": null,
   "id": "dada3369",
   "metadata": {},
   "outputs": [],
   "source": [
    "len(set(views.title).difference(set(df.title)))"
   ]
  },
  {
   "cell_type": "code",
   "execution_count": null,
   "id": "372e9a17",
   "metadata": {},
   "outputs": [],
   "source": [
    "len(set(df.title).difference(set(views.title)))"
   ]
  },
  {
   "cell_type": "code",
   "execution_count": null,
   "id": "76d426a5",
   "metadata": {},
   "outputs": [],
   "source": [
    "len(set(df.title.str.lower()).intersection(set(views.title.str.lower())))"
   ]
  }
 ],
 "metadata": {
  "kernelspec": {
   "display_name": "Python 3 (ipykernel)",
   "language": "python",
   "name": "python3"
  },
  "language_info": {
   "codemirror_mode": {
    "name": "ipython",
    "version": 3
   },
   "file_extension": ".py",
   "mimetype": "text/x-python",
   "name": "python",
   "nbconvert_exporter": "python",
   "pygments_lexer": "ipython3",
   "version": "3.9.16"
  }
 },
 "nbformat": 4,
 "nbformat_minor": 5
}
