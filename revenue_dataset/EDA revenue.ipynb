{
 "cells": [
  {
   "cell_type": "code",
   "execution_count": null,
   "id": "07c65bd5",
   "metadata": {},
   "outputs": [],
   "source": [
    "import numpy as np\n",
    "import pandas as pd\n",
    "\n",
    "pd.set_option('display.max_rows', 200)\n",
    "pd.set_option('display.max_columns', None)\n",
    "\n",
    "import matplotlib.pyplot as plt\n",
    "import seaborn as sns\n",
    "\n",
    "sns.set()"
   ]
  },
  {
   "cell_type": "code",
   "execution_count": null,
   "id": "72ea683e",
   "metadata": {},
   "outputs": [],
   "source": [
    "df = pd.read_csv('../assets/netflix_revenues.tsv', sep='\\t')\n",
    "df.year = df.year.astype('category')\n",
    "print(df.shape)\n",
    "df"
   ]
  },
  {
   "cell_type": "code",
   "execution_count": null,
   "id": "7fc9257b",
   "metadata": {},
   "outputs": [],
   "source": [
    "melted = pd.melt(df, 'year', ['revenues', 'cost_of_revenues'])\n",
    "sns.barplot(melted, x='year', y='value', hue='variable')\n",
    "\n",
    "plt.xticks(rotation=45);"
   ]
  },
  {
   "cell_type": "code",
   "execution_count": null,
   "id": "a4aa0820",
   "metadata": {},
   "outputs": [],
   "source": [
    "plt.stackplot(df.year, df.marketing, \n",
    "              df.technology_and_development, \n",
    "              df.general_and_administrative,\n",
    "             labels=['Marketing', 'Tech & development', 'General & Administrative'])\n",
    "\n",
    "plt.plot(df.year, df.cost_of_revenues, label='Cost of revenues')\n",
    "\n",
    "plt.legend()"
   ]
  },
  {
   "cell_type": "code",
   "execution_count": null,
   "id": "2bb03e49",
   "metadata": {},
   "outputs": [],
   "source": [
    "plt.stackplot(df.year, df.marketing / df.cost_of_revenues * 100, \n",
    "              df.technology_and_development / df.cost_of_revenues * 100, \n",
    "              df.general_and_administrative / df.cost_of_revenues * 100,\n",
    "             labels=['Marketing', 'Tech & development', 'General & Administrative'])\n",
    "\n",
    "# plt.plot(df.year, df.cost_of_revenues)\n",
    "\n",
    "plt.legend()"
   ]
  },
  {
   "cell_type": "code",
   "execution_count": null,
   "id": "0dfee8b0",
   "metadata": {},
   "outputs": [],
   "source": []
  }
 ],
 "metadata": {
  "kernelspec": {
   "display_name": "Python 3 (ipykernel)",
   "language": "python",
   "name": "python3"
  },
  "language_info": {
   "codemirror_mode": {
    "name": "ipython",
    "version": 3
   },
   "file_extension": ".py",
   "mimetype": "text/x-python",
   "name": "python",
   "nbconvert_exporter": "python",
   "pygments_lexer": "ipython3",
   "version": "3.9.16"
  }
 },
 "nbformat": 4,
 "nbformat_minor": 5
}
