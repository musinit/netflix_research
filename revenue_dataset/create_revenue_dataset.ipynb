{
 "cells": [
  {
   "cell_type": "code",
   "execution_count": null,
   "id": "18e5892a",
   "metadata": {},
   "outputs": [],
   "source": [
    "!pip install selenium webdriver-manager beautifulsoup4 pdfplumber pandas matplotlib "
   ]
  },
  {
   "cell_type": "code",
   "execution_count": null,
   "id": "9f019d75",
   "metadata": {},
   "outputs": [],
   "source": [
    "import re\n",
    "import os\n",
    "import time\n",
    "\n",
    "import pdfplumber # доставать из pdf данные\n",
    "\n",
    "import pandas as pd\n",
    "import matplotlib.pyplot as plt\n",
    "pd.set_option('display.max_rows', 500)\n",
    "pd.set_option('display.max_columns', None)\n",
    "\n",
    "\n",
    "from selenium import webdriver\n",
    "from webdriver_manager.chrome import ChromeDriverManager\n",
    "from selenium.webdriver.common.by import By\n",
    "\n",
    "from bs4 import BeautifulSoup "
   ]
  },
  {
   "cell_type": "markdown",
   "id": "199c405e",
   "metadata": {},
   "source": [
    "# Сделать датасет с данными по годам о выручке netflix\n",
    "1. Скачать со страницы netflix финансовые отчеты в `pdf`\n",
    "2. Получить с `pdf` данные для таблиц\n",
    "3. Преобразовать в таблицу и сохранить датасет"
   ]
  },
  {
   "cell_type": "code",
   "execution_count": null,
   "id": "33c23321",
   "metadata": {},
   "outputs": [],
   "source": [
    "service = webdriver.ChromeService(executable_path='C:\\Program Files (x86)\\Google\\Chrome\\Application\\chrome.exe') \n",
    "                                  "
   ]
  },
  {
   "cell_type": "code",
   "execution_count": null,
   "id": "588b2778",
   "metadata": {},
   "outputs": [],
   "source": [
    "options = webdriver.ChromeOptions()\n",
    "options.add_experimental_option('prefs', {\n",
    "            \"plugins.always_open_pdf_externally\": True #It will not show PDF directly in chrome\n",
    "})\n",
    "browser = webdriver.Chrome(options=options)\n",
    "link = 'https://ir.netflix.net/financials/annual-reports-and-proxies/default.aspx'\n",
    "browser.get(link)"
   ]
  },
  {
   "cell_type": "code",
   "execution_count": null,
   "id": "95f78df2-cf65-48ac-b870-9efe327b7a2d",
   "metadata": {},
   "outputs": [],
   "source": [
    "folder = 'annual_reports/'"
   ]
  },
  {
   "cell_type": "markdown",
   "id": "9d4485f4",
   "metadata": {},
   "source": [
    "### 1. Получить все ссылки ведущие на отчеты и автоматизированно их скачать\n",
    "\n",
    "Должен быть включен VPN."
   ]
  },
  {
   "cell_type": "code",
   "execution_count": null,
   "id": "51b59791-7a1c-4596-8760-d234b210ae11",
   "metadata": {},
   "outputs": [],
   "source": [
    "# страница `https://ir.netflix.net/financials/annual-reports-and-proxies/default.aspx` была заранее скачана\n",
    "with open(f'{folder}Netflix - Financials - Annual Reports & Proxies.html') as fp:\n",
    "    soup = BeautifulSoup(fp)"
   ]
  },
  {
   "cell_type": "code",
   "execution_count": null,
   "id": "3c502d75",
   "metadata": {},
   "outputs": [],
   "source": [
    "tags = soup.find_all('a', {'class':'module_link module-financial_link'})\n",
    "tags[0]"
   ]
  },
  {
   "cell_type": "code",
   "execution_count": null,
   "id": "463690ff",
   "metadata": {},
   "outputs": [],
   "source": [
    "type(tags[0])"
   ]
  },
  {
   "cell_type": "code",
   "execution_count": null,
   "id": "f8907cb9",
   "metadata": {},
   "outputs": [],
   "source": [
    "tags[0]['href']"
   ]
  },
  {
   "cell_type": "code",
   "execution_count": null,
   "id": "e5472114",
   "metadata": {},
   "outputs": [],
   "source": [
    "len(tags)"
   ]
  },
  {
   "cell_type": "code",
   "execution_count": null,
   "id": "a52c0a9e",
   "metadata": {},
   "outputs": [],
   "source": [
    "lst = []\n",
    "for tag in tags:\n",
    "    for child in tag.children:\n",
    "        if 'Annual Report' in child.text:\n",
    "            print(child.text)\n",
    "            lst.append(tag['href'])\n",
    "            \n",
    "print(len(lst))"
   ]
  },
  {
   "cell_type": "code",
   "execution_count": null,
   "id": "e28be206",
   "metadata": {},
   "outputs": [],
   "source": [
    "lst"
   ]
  },
  {
   "cell_type": "code",
   "execution_count": null,
   "id": "dc15cee4",
   "metadata": {},
   "outputs": [],
   "source": [
    "# скачивание pdf файлов\n",
    "for link in lst:\n",
    "    browser.get(link)\n",
    "    "
   ]
  },
  {
   "cell_type": "code",
   "execution_count": null,
   "id": "387b85a9-320e-4045-b23e-78931054368a",
   "metadata": {},
   "outputs": [],
   "source": []
  },
  {
   "cell_type": "markdown",
   "id": "2789c5e0-61f8-467b-86bb-7b196978c60c",
   "metadata": {},
   "source": [
    "## анализ pdf файлов\n",
    "\n",
    "1. Необходимо получить данные для таблиц `CONSOLIDATED STATEMENTS OF OPERATIONS`"
   ]
  },
  {
   "cell_type": "code",
   "execution_count": null,
   "id": "96349d57-5a7e-4d96-add8-8b79a73dc359",
   "metadata": {},
   "outputs": [],
   "source": [
    "# из папки Downloads файлы были перемещены в папку с отчетами\n",
    "reports = [f for f in os.listdir(folder) if f.endswith('pdf')]\n",
    "print(len(reports))\n",
    "reports[:2]"
   ]
  },
  {
   "cell_type": "code",
   "execution_count": null,
   "id": "f7a071bb-b57a-4513-a48b-457abde6f9e6",
   "metadata": {},
   "outputs": [],
   "source": [
    "folder_text = 'annual_reports_parsed/'"
   ]
  },
  {
   "cell_type": "code",
   "execution_count": null,
   "id": "73d7e832-2741-4a6c-a99a-8cc88d3b2022",
   "metadata": {},
   "outputs": [],
   "source": [
    "for filename in reports:\n",
    "    with pdfplumber.open(folder + filename) as pdf:\n",
    "        print(filename, len(pdf.pages))\n",
    "        for i, page in enumerate(pdf.pages):\n",
    "            \n",
    "            # print(page.chars[0])\n",
    "            tables = page.extract_tables({'vertical_strategy':'text'})\n",
    "            text = [x['text'] for x in page.extract_text_lines()]\n",
    "            if 'CONSOLIDATED STATEMENTS OF OPERATIONS' in text:\n",
    "                print('page', i)\n",
    "                line = '\\n'.join(text)\n",
    "                with open(folder_text + filename.replace('.pdf', '.txt'), 'w') as file:\n",
    "                    file.write(line)\n",
    "                    \n",
    "            elif 'CONSOLIDATEDSTATEMENTSOFOPERATIONS' in text:\n",
    "                print('page', i)\n",
    "                line = '\\n'.join(text)\n",
    "                with open(folder_text + filename.replace('.pdf', '.not_spaced.txt'), 'w') as file:\n",
    "                    file.write(line)\n",
    " "
   ]
  },
  {
   "cell_type": "code",
   "execution_count": null,
   "id": "6fa37eb5-9392-41a6-82c6-fda96d3702d5",
   "metadata": {},
   "outputs": [],
   "source": []
  },
  {
   "cell_type": "code",
   "execution_count": null,
   "id": "4a751306-abdf-4c7d-a081-7a6b5a22a466",
   "metadata": {},
   "outputs": [],
   "source": [
    "def preprocess_not_spaced(filename):\n",
    "    print(filename)\n",
    "    with open(filename, 'r') as file:\n",
    "        lines = file.readlines()\n",
    "    # print(lines)\n",
    "    years = list(re.findall('([0-9]{4})', lines[4]))\n",
    "    \n",
    "    print(years)\n",
    "    i = 5\n",
    "    lst = ['column ' + lines[4].strip()]\n",
    "    head = ''\n",
    "    while i < len(lines):\n",
    "        line = lines[i].strip()\n",
    "        # print(line)\n",
    "        if '..' not in line:\n",
    "            head = line.replace(',', '').replace('$', '').replace(')', '').replace('(', '').replace('* ', '').replace('*', '').replace('—', '')\n",
    "        i += 1\n",
    "        while i < len(lines) and '..' in line:\n",
    "            line = line.replace(',', '').replace('$', '').replace(')', '').replace('(', '').replace('* ', '').replace('*', '').replace('—', '')\n",
    "            \n",
    "            processed = re.sub('\\.{2,}', '', line)\n",
    "            lst += [head + processed]\n",
    "            i += 1\n",
    "            line = lines[i].strip()\n",
    "\n",
    "    return lst\n",
    "\n",
    "def parse_not_spaced(filename):\n",
    "    lst = preprocess_not_spaced(filename)\n",
    "    folder = 'annual_reports_parsed_step2/'\n",
    "    processed_filename = folder + filename.split('/')[-1]\n",
    "    with open(processed_filename, 'w') as file:\n",
    "        for line in lst:\n",
    "            file.write(line.replace('  ', ' ').replace('  ', ' ') + '\\n')\n",
    "\n",
    "    df = pd.read_csv(processed_filename, sep=' ')\n",
    "    df = df.set_index('column').T.rename(columns={'Revenues:Subscription':'Revenues'})\n",
    "    return df\n",
    "\n",
    "        "
   ]
  },
  {
   "cell_type": "code",
   "execution_count": null,
   "id": "97de3af7-2cc8-4f46-bd35-a74d85947488",
   "metadata": {},
   "outputs": [],
   "source": [
    "files_not_spaced = [f for f in os.listdir(folder_text) if 'not_spaced' in f]\n",
    "files_spaced = [f for f in os.listdir(folder_text) if 'not_spaced' not in f]\n",
    "print(len(files_not_spaced), len(files_spaced))\n",
    "files_not_spaced[:2]"
   ]
  },
  {
   "cell_type": "code",
   "execution_count": null,
   "id": "dcc8509f-6c78-4e60-ac0d-41eb53116915",
   "metadata": {},
   "outputs": [],
   "source": [
    "lst = []\n",
    "print(len(files_not_spaced))\n",
    "for i in range(len(files_not_spaced)):\n",
    "    print(i)\n",
    "    try:\n",
    "        lst.append(parse_not_spaced(folder_text + files_not_spaced[i]))\n",
    "    except BaseException as e:\n",
    "        print(files_not_spaced[i])\n",
    "        print(e)"
   ]
  },
  {
   "cell_type": "code",
   "execution_count": null,
   "id": "9695cada-f641-43c2-a2c1-cbb4a60fce65",
   "metadata": {},
   "outputs": [],
   "source": [
    "merged = pd.concat(lst).reset_index().sort_values('index').rename(columns={'index':'year'})"
   ]
  },
  {
   "cell_type": "code",
   "execution_count": null,
   "id": "84eaa37a-5a45-4f29-9a14-286508a5302d",
   "metadata": {},
   "outputs": [],
   "source": [
    "first = merged.groupby('year').first()\n",
    "first"
   ]
  },
  {
   "cell_type": "code",
   "execution_count": null,
   "id": "6d6c950a-5db3-4b8e-b718-346336fe79f7",
   "metadata": {},
   "outputs": [],
   "source": [
    "def preprocess_spaced(filename):\n",
    "    print(filename)\n",
    "    with open(filename, 'r') as file:\n",
    "        lines = file.readlines()[:-1] # \n",
    "\n",
    "    years = list(re.findall('([0-9]{4})', lines[5]))\n",
    "    \n",
    "    print(years)\n",
    "    i = 6\n",
    "    lst = ['\\t'.join(['column'] + years)]\n",
    "    head = ''\n",
    "        \n",
    "    while i < len(lines):      \n",
    "        line = lines[i].replace(',', '').replace('$', '').replace(')', '').replace('(', '').replace('* ', '').replace('*', '').replace('—', '').strip()\n",
    "        # print(i, line)\n",
    "        if ':' in line:\n",
    "            head = line\n",
    "            i += 1\n",
    "            line = lines[i].replace(',', '').replace('$', '').replace(')', '').replace('(', '').replace('* ', '').replace('*', '').replace('—', '').strip()\n",
    "            \n",
    "        name = re.findall('([a-zA-Z ]*)\\d*.*', line)\n",
    "        # print(name)\n",
    "        numbers = [str(num) for num in re.findall(r'[\\d]*[.]*[\\d]+', line)]\n",
    "        lst += [head + ''.join(name).strip() + '\\t' + '\\t'.join(numbers)]\n",
    "        i += 1\n",
    "\n",
    "    return lst\n",
    "\n",
    "def parse_spaced(filename):\n",
    "    lst = preprocess_spaced(filename)\n",
    "    folder = 'annual_reports_parsed_step2/'\n",
    "    processed_filename = folder + filename.split('/')[-1]\n",
    "    print(processed_filename)\n",
    "    with open(processed_filename, 'w') as file:\n",
    "        for line in lst:\n",
    "            file.write(line.replace('  ', ' ').replace('  ', ' ') + '\\n')\n",
    "\n",
    "    df = pd.read_csv(processed_filename, sep='\\t')\n",
    "    df = df.set_index('column').T.rename(columns={'Revenues:Subscription':'Revenues'})\n",
    "    return df\n",
    "\n",
    "        "
   ]
  },
  {
   "cell_type": "code",
   "execution_count": null,
   "id": "085cb80d-b096-40a3-88b1-0aeecaf27cc7",
   "metadata": {},
   "outputs": [],
   "source": [
    "lst = []\n",
    "print(len(files_spaced))\n",
    "for i in range(len(files_spaced)):\n",
    "    print(i)\n",
    "    try:\n",
    "        lst.append(parse_spaced(folder_text + files_spaced[i]))\n",
    "    except BaseException as e:\n",
    "        print(files_spaced[i])\n",
    "        print(e)\n",
    "    # break"
   ]
  },
  {
   "cell_type": "code",
   "execution_count": null,
   "id": "5888d953-c068-4247-8af3-64030c75f153",
   "metadata": {},
   "outputs": [],
   "source": [
    "print(len(lst))\n",
    "lst[0]"
   ]
  },
  {
   "cell_type": "code",
   "execution_count": null,
   "id": "e0957f66-8ba6-4370-acfb-007c4dd329ff",
   "metadata": {},
   "outputs": [],
   "source": [
    "merged = pd.concat(lst).reset_index().sort_values('index').rename(columns={'index':'year'})"
   ]
  },
  {
   "cell_type": "code",
   "execution_count": null,
   "id": "a77ce55f-c409-49e5-ad84-6ef914639b45",
   "metadata": {},
   "outputs": [],
   "source": [
    "second = merged.groupby('year').first().rename(columns={'Other income expense:Net income':'Net_income'})\n",
    "second"
   ]
  },
  {
   "cell_type": "code",
   "execution_count": null,
   "id": "919d8c13-f8ff-4648-9646-52a698e87b8b",
   "metadata": {},
   "outputs": [],
   "source": [
    "cols = ['Revenues', 'Cost of revenues', 'Marketing',\n",
    "       'Technology and development', 'General and administrative',\n",
    "       'Operating income', 'Other income expense:Interest expense',\n",
    "       'Other income expense:Interest and other income expense',\n",
    "       'Other income expense:Income before income taxes',\n",
    "       'Net_income', 'Earnings per share:Basic', 'Earnings per share:Diluted',\n",
    "       'Weighted-average common shares outstanding:Basic',\n",
    "       'Weighted-average common shares outstanding:Diluted',\n",
    "       ]"
   ]
  },
  {
   "cell_type": "code",
   "execution_count": null,
   "id": "796b03a5-d9ee-43ef-ac3e-c434f46fda99",
   "metadata": {},
   "outputs": [],
   "source": [
    "second = second[cols]"
   ]
  },
  {
   "cell_type": "code",
   "execution_count": null,
   "id": "542e4b23-1649-4b68-b0ae-c9c6905e59e4",
   "metadata": {},
   "outputs": [],
   "source": [
    "rename = {x: x.lower().replace(' ', '_').replace('other_income_expense:', '')\\\n",
    "          .replace('earnings_per_share:', 'eps_').replace('weighted-average_common_shares_outstanding:', 'wacso_')\n",
    "          for x in second.columns}\n",
    "rename"
   ]
  },
  {
   "cell_type": "code",
   "execution_count": null,
   "id": "9a995a5b-0d04-4d23-b935-172959638070",
   "metadata": {},
   "outputs": [],
   "source": [
    "second = second.rename(columns=rename)"
   ]
  },
  {
   "cell_type": "code",
   "execution_count": null,
   "id": "162d123b-cd54-4de7-8f83-5638e3910066",
   "metadata": {},
   "outputs": [],
   "source": [
    "assert second.shape[0] == second.index.nunique()"
   ]
  },
  {
   "cell_type": "code",
   "execution_count": null,
   "id": "dfc63dda-9274-403e-a62d-0db21e04ebc4",
   "metadata": {},
   "outputs": [],
   "source": [
    "second.info()"
   ]
  },
  {
   "cell_type": "code",
   "execution_count": null,
   "id": "b1ff05fc-0c04-4c0d-ac05-aa6a6fa1ce1f",
   "metadata": {},
   "outputs": [],
   "source": [
    "rename_first = {'Revenues':'revenues', 'Marketing':'marketing', \n",
    "                'Technologyanddevelopment':'technology_and_development',\n",
    "       'Generalandadministrative':'general_and_administrative',\n",
    "                'Operatingincome':'operating_income',\n",
    "       'Otherincomeexpense:Interestexpense':'interest_expense',\n",
    "       'Otherincomeexpense:Incomebeforeincometaxes':'income_before_income_taxes',\n",
    "       'Otherincomeexpense:Provisionforincometaxes':'provision_for_income_taxes',\n",
    "       'Otherincomeexpense:Netincome':'ie_net_income', \n",
    "                'Earningspershare:Basic':'eps_basic',\n",
    "       'Weighted-averagecommonsharesoutstanding:Basic':'wacso_basic', \n",
    "                'Subscription':'subscription',\n",
    "       'Fulfillmentexpenses':'fulfillment_expenses', \n",
    "                'Totalcostofrevenues':'cost_of_revenues', \n",
    "                'Grossprofit':'grossprofit',\n",
    "       'Operatingexpenses:Technologyanddevelopment':'oe_technology_and_development',\n",
    "       'Operatingexpenses:Generalandadministrative':'oe_general_and_administrative',\n",
    "       'Operatingexpenses:GainondisposalofDVDs':'oe_gain_on_disposal_of_DVDs',\n",
    "       'Operatingexpenses:Totaloperatingexpenses':'oe_total_operating_expenses',\n",
    "       'Operatingexpenses:Operatingincome':'oe_operating_income', \n",
    "                'Netincomepershare:Basic':'eps_basic2',\n",
    "       }"
   ]
  },
  {
   "cell_type": "code",
   "execution_count": null,
   "id": "01723e29-5cd7-4504-a97e-a130791f001b",
   "metadata": {},
   "outputs": [],
   "source": [
    "cols = list(rename_first.keys())\n",
    "first = first[cols]\n",
    "first = first.rename(columns=rename_first)"
   ]
  },
  {
   "cell_type": "code",
   "execution_count": null,
   "id": "7775de8a-184b-497a-afab-6314366cab28",
   "metadata": {},
   "outputs": [],
   "source": [
    "assert first.shape[0] == first.index.nunique()"
   ]
  },
  {
   "cell_type": "code",
   "execution_count": null,
   "id": "d58f9ac5-d6da-43d6-a73f-e1a9aa50cf58",
   "metadata": {},
   "outputs": [],
   "source": [
    "first.info()"
   ]
  },
  {
   "cell_type": "code",
   "execution_count": null,
   "id": "0af2a951-00a3-45ee-a5d1-bdc01192ec17",
   "metadata": {},
   "outputs": [],
   "source": [
    "first.eps_basic = first.eps_basic.combine_first(first.eps_basic2.rename('eps_basic'))\n",
    "first = first.drop(columns=['eps_basic2'])"
   ]
  },
  {
   "cell_type": "code",
   "execution_count": null,
   "id": "59b80043-7b9e-4676-9806-a900ee17f654",
   "metadata": {},
   "outputs": [],
   "source": [
    "final = pd.concat([second, first]).sort_values('year').groupby('year').first()\n",
    "final"
   ]
  },
  {
   "cell_type": "code",
   "execution_count": null,
   "id": "8a528131-bf16-4209-847f-3d2b7f01b05c",
   "metadata": {},
   "outputs": [],
   "source": [
    "final.net_income = final.net_income.combine_first(final.ie_net_income.rename('net_income'))\n",
    "final = final.drop(columns=['ie_net_income'])"
   ]
  },
  {
   "cell_type": "code",
   "execution_count": null,
   "id": "44af16df-28d1-4611-b357-ff847f9feb74",
   "metadata": {},
   "outputs": [],
   "source": [
    "df = final[second.columns]\n",
    "df"
   ]
  },
  {
   "cell_type": "code",
   "execution_count": null,
   "id": "945344ca-564c-403f-b451-034dfc1d77ff",
   "metadata": {},
   "outputs": [],
   "source": [
    "df.info()"
   ]
  },
  {
   "cell_type": "code",
   "execution_count": null,
   "id": "ea54769e-c28e-4796-8285-80001bf16335",
   "metadata": {},
   "outputs": [],
   "source": [
    "df.reset_index().to_csv('../assets/netflix_revenues.tsv', sep='\\t', index=False)"
   ]
  },
  {
   "cell_type": "markdown",
   "id": "f2edac80-4692-4564-a6e4-8a59e93bcb80",
   "metadata": {},
   "source": [
    "Для создания датасета использовались таблицы `CONSOLIDATED STATEMENTS OF OPERATIONS` из официальных отчетов Netflix.\n",
    "\n",
    "Структура этих таблиц менялась, поэтому в итоговой таблице есть пропущенные значения (часть информации из ранних таблиц не добавлена, часть столбцов вероятно можно объединить, если использовать знания экспертов).\n",
    "\n",
    "С 2012 по 2023 год данные почти полные для выбранных столбцов.\n",
    "\n",
    "Значения приводятся в тысячах долларов, за исключением значений на акцию (per share).\n",
    "\n",
    "Структура таблицы из отчета и связь с датасетом:\n",
    "\n",
    "|                                             | Название столбца в таблице отчета   |                            | название колонки                  | единицы измерения | не пропущенные значения с 2002 по 2023 | не пропущенные значения с 2012 по 2023 |\n",
    "| ------------------------------------------- | ----------------------------------- | -------------------------- | --------------------------------- | ----------------- | -------------------------------------- | -------------------------------------- |\n",
    "| Revenues:                                   |                                     |                            | revenues                          | thousands, `$`    | 22                                     | 12                                     |\n",
    "|                                             | cost of revenues                    |                            | cost_of_revenues                  | thousands, `$`    | 20                                     | 12                                     |\n",
    "|                                             |                                     | marketing                  | marketing                         | thousands, `$`    | 14                                     | 12                                     |\n",
    "|                                             |                                     | technology and development | technology_and_development        | thousands, `$`    | 14                                     | 12                                     |\n",
    "|                                             |                                     | general and administrative | general_and_administrative        | thousands, `$`    | 14                                     | 12                                     |\n",
    "| operating income                            |                                     |                            | operating_income                  | thousands, `$`    | 14                                     | 12                                     |\n",
    "| other income (expense):                     |                                     |                            |                                   |                   |                                        |                                        |\n",
    "|                                             | interest expense                    |                            | interest_expense                  | thousands, `$`    | 17                                     | 12                                     |\n",
    "|                                             | interest and other income (expense) |                            | interest_and_other_income_expense | thousands, `$`    | 12                                     | 12                                     |\n",
    "| income before income taxes                  |                                     |                            | income_before_income_taxes        | thousands, `$`    | 20                                     | 12                                     |\n",
    "| provision for (benefit from) income taxes   |                                     |                            | -                                 | thousands, `$`    |                                        |                                        |\n",
    "| net income                                  |                                     |                            | net_income                        | thousands, `$`    | 12                                     | 12                                     |\n",
    "| earnings per share:                         |                                     |                            |                                   |                   |                                        |                                        |\n",
    "|                                             | basic                               |                            | eps_basic                         | `$`               | 20                                     | 12                                     |\n",
    "|                                             | diluted                             |                            | eps_diluted                       | `$`               | 12                                     | 12                                     |\n",
    "| Weighted-average common shares outstanding: |                                     |                            |                                   |                   |                                        |                                        |\n",
    "|                                             | basic                               |                            | wacso_basic                       |                   | 21                                     | 11                                     |\n",
    "|                                             | diluted                             |                            | wacso_diluted                     |                   | 11                                     | 11                                     |\n",
    "|                                             |                                     |                            |                                   |                   |                                        |                                        |"
   ]
  },
  {
   "cell_type": "code",
   "execution_count": null,
   "id": "8ec4de4a-b21c-4200-976d-1f856351c301",
   "metadata": {},
   "outputs": [],
   "source": []
  },
  {
   "cell_type": "code",
   "execution_count": null,
   "id": "d40d22fd-ca54-4583-b699-ccfb717e3443",
   "metadata": {},
   "outputs": [],
   "source": []
  }
 ],
 "metadata": {
  "kernelspec": {
   "display_name": "Python 3 (ipykernel)",
   "language": "python",
   "name": "python3"
  },
  "language_info": {
   "codemirror_mode": {
    "name": "ipython",
    "version": 3
   },
   "file_extension": ".py",
   "mimetype": "text/x-python",
   "name": "python",
   "nbconvert_exporter": "python",
   "pygments_lexer": "ipython3",
   "version": "3.12.8"
  }
 },
 "nbformat": 4,
 "nbformat_minor": 5
}
