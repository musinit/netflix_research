{
 "cells": [
  {
   "cell_type": "code",
   "execution_count": null,
   "id": "82cb162a",
   "metadata": {},
   "outputs": [],
   "source": [
    "import os\n",
    "\n",
    "import numpy as np\n",
    "import pandas as pd\n",
    "\n",
    "pd.set_option('display.max_rows', 200)\n",
    "pd.set_option('display.max_columns', None)\n",
    "\n",
    "import matplotlib.pyplot as plt\n",
    "import seaborn as sns"
   ]
  },
  {
   "cell_type": "code",
   "execution_count": null,
   "id": "8da2a226",
   "metadata": {},
   "outputs": [],
   "source": [
    "%%time\n",
    "films = pd.read_csv('assets/title.basics.tsv.gz', sep='\\t', na_values=['\\\\N'])\n",
    "print(f'{films.shape=}')\n",
    "\n",
    "ratings = pd.read_csv('assets/title.ratings.tsv.gz', sep='\\t', na_values=['\\\\N'])\n",
    "print(f'{ratings.shape=}')\n",
    "\n",
    "# будем рассматривать только фильмы с оценками\n",
    "films = pd.merge(films, ratings, on='tconst', how='inner')\n",
    "\n",
    "crew = pd.read_csv('assets/title.crew.tsv.gz', sep='\\t', na_values=['\\\\N'])\n",
    "print(f'{crew.shape=}')\n",
    "\n",
    "names = pd.read_csv('assets/name.basics.tsv.gz', sep='\\t', na_values=['\\\\N'])\n",
    "print(f'{names.shape=}')\n"
   ]
  },
  {
   "cell_type": "code",
   "execution_count": null,
   "id": "a2924ee8",
   "metadata": {},
   "outputs": [],
   "source": [
    "films.head()"
   ]
  },
  {
   "cell_type": "code",
   "execution_count": null,
   "id": "fc5d5fc4",
   "metadata": {},
   "outputs": [],
   "source": [
    "films.startYear.hist()"
   ]
  },
  {
   "cell_type": "markdown",
   "id": "28423378",
   "metadata": {},
   "source": [
    "### ограничивания датасет выборкой из 10^5 фильмов, чтобы выполнять команды было не долго\n",
    "Когда станет понятно, что нужно посчитать, надо будет на полном датасете считать"
   ]
  },
  {
   "cell_type": "code",
   "execution_count": null,
   "id": "f11a8cda",
   "metadata": {},
   "outputs": [],
   "source": [
    "df = films.sample(100000)\n",
    "df.shape"
   ]
  },
  {
   "cell_type": "code",
   "execution_count": null,
   "id": "d3a57999",
   "metadata": {},
   "outputs": [],
   "source": [
    "df = pd.merge(df, crew, how='left', on='tconst')\n",
    "df.head()"
   ]
  },
  {
   "cell_type": "code",
   "execution_count": null,
   "id": "e524acf4",
   "metadata": {},
   "outputs": [],
   "source": [
    "# у фильма может быть несколько режиссеров\n",
    "# строка с запятыми будет преобразована в список строк\n",
    "df.directors = df.directors.apply(lambda x: x.split(',') if not pd.isna(x) else np.nan)\n",
    "df.writers = df.writers.apply(lambda x: x.split(',') if not pd.isna(x) else np.nan)\n",
    "\n",
    "df['number_of_directors'] = df.directors.apply(lambda x: len(x) if not np.all(pd.isna(x)) else np.nan)\n",
    "\n",
    "# у фильма может быть несколько жанров (до трех)\n",
    "# строка с запятыми будет преобразована в список строк\n",
    "# main_genre это первый жанр\n",
    "df['genres_lst'] = df.genres.apply(lambda x: \n",
    "                                   x.split(',') if not pd.isna(x) else np.nan)\n",
    "\n",
    "df['main_genre'] = df.genres_lst.apply(lambda x: \n",
    "                                       x[0] if not np.all(pd.isna(x)) else np.nan)\n",
    "\n",
    "df.head()"
   ]
  },
  {
   "cell_type": "code",
   "execution_count": null,
   "id": "ab3bd3f0",
   "metadata": {},
   "outputs": [],
   "source": [
    "sns.boxplot(df, x='main_genre', y='averageRating', hue='isAdult')\n",
    "plt.xticks(rotation=90);"
   ]
  },
  {
   "cell_type": "code",
   "execution_count": null,
   "id": "52467ff1",
   "metadata": {},
   "outputs": [],
   "source": [
    "sns.boxplot(df, x='main_genre', y='numVotes', hue='isAdult')\n",
    "plt.xticks(rotation=90);\n",
    "plt.yscale('log')"
   ]
  },
  {
   "cell_type": "code",
   "execution_count": null,
   "id": "d5fd8889",
   "metadata": {},
   "outputs": [],
   "source": [
    "# пусть в каждой строке будет указан только один режиссер\n",
    "# тогда фильму с двумя режиссерами, будет соответствовать две строки\n",
    "exploded = df.explode('directors')\n",
    "print(f'{exploded.shape=}')\n",
    "exploded.head()"
   ]
  },
  {
   "cell_type": "code",
   "execution_count": null,
   "id": "bb4d0f5b",
   "metadata": {},
   "outputs": [],
   "source": []
  },
  {
   "cell_type": "code",
   "execution_count": null,
   "id": "acd61ee2",
   "metadata": {},
   "outputs": [],
   "source": [
    "# добавляется информация о человеке\n",
    "films_with_directors = pd.merge(exploded, names, how='left', \n",
    "                                left_on=['directors'], right_on=['nconst'])\n",
    "print(f'{films_with_directors.shape=}')\n",
    "films_with_directors.head()"
   ]
  },
  {
   "cell_type": "code",
   "execution_count": null,
   "id": "fdbe92a6",
   "metadata": {},
   "outputs": [],
   "source": []
  },
  {
   "cell_type": "code",
   "execution_count": null,
   "id": "b1e5f7ac",
   "metadata": {},
   "outputs": [],
   "source": [
    "# сколько режиссеров сняли по какому количеству фильмов\n",
    "# индекс это количество фильмов\n",
    "# directors это сколько режиссеров сняли такое количество фильмов\n",
    "films_with_directors.groupby('directors').averageRating.count().reset_index().groupby('averageRating').count()"
   ]
  },
  {
   "cell_type": "code",
   "execution_count": null,
   "id": "6c26cb59",
   "metadata": {},
   "outputs": [],
   "source": []
  },
  {
   "cell_type": "code",
   "execution_count": null,
   "id": "1d7066f1",
   "metadata": {},
   "outputs": [],
   "source": [
    "films_with_directors.info()"
   ]
  },
  {
   "cell_type": "markdown",
   "id": "6915d450",
   "metadata": {},
   "source": [
    "нулевых значений в поле `genres` не очень много, можно было бы их и удалить"
   ]
  },
  {
   "cell_type": "code",
   "execution_count": null,
   "id": "2e6df1ce",
   "metadata": {},
   "outputs": [],
   "source": [
    "# может быть жанр фильма закодировать?\n",
    "pd.get_dummies(films_with_directors.main_genre)"
   ]
  },
  {
   "cell_type": "code",
   "execution_count": null,
   "id": "9747ce68",
   "metadata": {},
   "outputs": [],
   "source": []
  },
  {
   "cell_type": "code",
   "execution_count": null,
   "id": "6a6c1b26",
   "metadata": {},
   "outputs": [],
   "source": []
  },
  {
   "cell_type": "code",
   "execution_count": null,
   "id": "5544ac4b",
   "metadata": {},
   "outputs": [],
   "source": [
    "films_with_directors.head()"
   ]
  },
  {
   "cell_type": "code",
   "execution_count": null,
   "id": "386b1642",
   "metadata": {},
   "outputs": [],
   "source": [
    "%%time\n",
    "# создается dataframe для режиссера\n",
    "aggregated = films_with_directors.groupby(['directors'] + list(names.columns)).agg(list).reset_index()\n",
    "print(f'{aggregated.shape=}')\n",
    "aggregated.head()"
   ]
  },
  {
   "cell_type": "code",
   "execution_count": null,
   "id": "953f4d9f",
   "metadata": {},
   "outputs": [],
   "source": [
    "from collections import Counter"
   ]
  },
  {
   "cell_type": "code",
   "execution_count": null,
   "id": "15830869",
   "metadata": {},
   "outputs": [],
   "source": [
    "# на большом датасете apply может быть недостаточно производительным\n",
    "# возможно, стоит заменить на groupby + agg, а потом merge\n",
    "aggregated['average_score'] = aggregated.averageRating.apply(np.mean)\n",
    "aggregated['most_common_genre'] = aggregated.main_genre.apply(lambda x: Counter(x).most_common()[0][0])"
   ]
  },
  {
   "cell_type": "code",
   "execution_count": null,
   "id": "8c43270c",
   "metadata": {},
   "outputs": [],
   "source": [
    "if 'writers' in aggregated.columns:\n",
    "    aggregated = aggregated.drop(columns=['writers', 'genres_lst'])"
   ]
  },
  {
   "cell_type": "code",
   "execution_count": null,
   "id": "e27cd8c9",
   "metadata": {},
   "outputs": [],
   "source": [
    "aggregated.head()"
   ]
  },
  {
   "cell_type": "markdown",
   "id": "ecda3d41",
   "metadata": {},
   "source": [
    "# Вопросы:\n",
    "1. Режиссер чаще снимает один или с кем-то?\n",
    "2. Какой лучший фильм у режиссера?\n",
    "3. Какая средняя оценка фильмов для самого частого жанра у этого режиссера?\n",
    "4. Как составить рейтинг режиссера, чтобы учесть популярность фильма, оценку и жанр? Нужно ли учитывать год?\n",
    "5. Как у режиссера может быть очень много фильмов?"
   ]
  },
  {
   "cell_type": "code",
   "execution_count": null,
   "id": "cd120a64",
   "metadata": {},
   "outputs": [],
   "source": [
    "aggregated['best_movie'] = aggregated.apply(lambda x: x.primaryTitle[np.argmax(x.averageRating)], axis=1)\n",
    "aggregated['most_viewed'] = aggregated.apply(lambda x: x.primaryTitle[np.argmax(x.numVotes)], axis=1)"
   ]
  },
  {
   "cell_type": "code",
   "execution_count": null,
   "id": "e6fb25e1",
   "metadata": {},
   "outputs": [],
   "source": [
    "aggregated.head()"
   ]
  },
  {
   "cell_type": "code",
   "execution_count": null,
   "id": "3c2f3259",
   "metadata": {},
   "outputs": [],
   "source": [
    "aggregated.query('nconst == \"nm0000005\"')['primaryTitle'].values"
   ]
  },
  {
   "cell_type": "code",
   "execution_count": null,
   "id": "f356e232",
   "metadata": {},
   "outputs": [],
   "source": []
  },
  {
   "cell_type": "code",
   "execution_count": null,
   "id": "666feef1",
   "metadata": {},
   "outputs": [],
   "source": []
  }
 ],
 "metadata": {
  "kernelspec": {
   "display_name": "Python 3 (ipykernel)",
   "language": "python",
   "name": "python3"
  },
  "language_info": {
   "codemirror_mode": {
    "name": "ipython",
    "version": 3
   },
   "file_extension": ".py",
   "mimetype": "text/x-python",
   "name": "python",
   "nbconvert_exporter": "python",
   "pygments_lexer": "ipython3",
   "version": "3.9.16"
  }
 },
 "nbformat": 4,
 "nbformat_minor": 5
}
