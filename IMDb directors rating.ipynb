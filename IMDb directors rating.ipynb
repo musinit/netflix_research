{
 "cells": [
  {
   "cell_type": "code",
   "execution_count": null,
   "id": "82cb162a",
   "metadata": {},
   "outputs": [],
   "source": [
    "import os\n",
    "\n",
    "import numpy as np\n",
    "import pandas as pd\n",
    "\n",
    "pd.set_option('display.max_rows', 200)\n",
    "pd.set_option('display.max_columns', None)\n",
    "\n",
    "import matplotlib.pyplot as plt\n",
    "import seaborn as sns"
   ]
  },
  {
   "cell_type": "code",
   "execution_count": null,
   "id": "8da2a226",
   "metadata": {},
   "outputs": [],
   "source": [
    "%%time\n",
    "folder = 'assets/'\n",
    "title_filename = 'title.basics.tsv.gz'\n",
    "if os.path.exists(folder + title_filename):\n",
    "    films = pd.read_csv(folder + title_filename, sep='\\t', na_values=['\\\\N'])\n",
    "else:\n",
    "    print(f'{title_filename} does not exist, using url to get data')\n",
    "    films = pd.read_csv(f'https://datasets.imdbws.com/{title_filename}', sep='\\t', na_values=['\\\\N'])\n",
    "    \n",
    "print(f'{films.shape=}')\n",
    "\n",
    "rating_filename = 'title.ratings.tsv.gz'\n",
    "if os.path.exists(folder + rating_filename):\n",
    "    ratings = pd.read_csv(folder + rating_filename, sep='\\t', na_values=['\\\\N'])\n",
    "else:\n",
    "    print(f'{rating_filename} does not exist, using url to get data')\n",
    "    ratings = pd.read_csv(f'https://datasets.imdbws.com/{rating_filename}', sep='\\t', na_values=['\\\\N'])\n",
    "    \n",
    "print(f'{ratings.shape=}')\n",
    "\n",
    "# будем рассматривать только фильмы с оценками\n",
    "films = pd.merge(films, ratings, on='tconst', how='inner')\n",
    "\n",
    "crew_filename = 'title.crew.tsv.gz'\n",
    "if os.path.exists(folder + crew_filename):\n",
    "    crew = pd.read_csv(folder + crew_filename, sep='\\t', na_values=['\\\\N'])\n",
    "else:\n",
    "    print(f'{crew_filename} does not exist, using url to get data')\n",
    "    crew = pd.read_csv(f'https://datasets.imdbws.com/{crew_filename}', sep='\\t', na_values=['\\\\N'])\n",
    "    \n",
    "print(f'{crew.shape=}')\n",
    "\n",
    "names_filename = 'name.basics.tsv.gz'\n",
    "if os.path.exists(folder + names_filename):\n",
    "    names = pd.read_csv(folder + names_filename, sep='\\t', na_values=['\\\\N'])\n",
    "else:\n",
    "    print(f'{names_filename} does not exist, using url to get data')\n",
    "    names = pd.read_csv(f'https://datasets.imdbws.com/{names_filename}', sep='\\t', na_values=['\\\\N'])\n",
    "\n",
    "print(f'{names.shape=}')\n"
   ]
  },
  {
   "cell_type": "code",
   "execution_count": null,
   "id": "a2924ee8",
   "metadata": {},
   "outputs": [],
   "source": [
    "films.head()"
   ]
  },
  {
   "cell_type": "code",
   "execution_count": null,
   "id": "fc5d5fc4",
   "metadata": {},
   "outputs": [],
   "source": [
    "films.startYear.hist()"
   ]
  },
  {
   "cell_type": "markdown",
   "id": "28423378",
   "metadata": {},
   "source": [
    "### ограничивания датасет выборкой из 10^5 фильмов, чтобы выполнять команды было не долго\n",
    "Когда станет понятно, что нужно посчитать, надо будет на полном датасете считать"
   ]
  },
  {
   "cell_type": "code",
   "execution_count": null,
   "id": "f11a8cda",
   "metadata": {},
   "outputs": [],
   "source": [
    "# df = films.sample(100000)\n",
    "df = films.copy()\n",
    "df.shape"
   ]
  },
  {
   "cell_type": "code",
   "execution_count": null,
   "id": "d3a57999",
   "metadata": {},
   "outputs": [],
   "source": [
    "df = pd.merge(df, crew, how='left', on='tconst')\n",
    "df.head()"
   ]
  },
  {
   "cell_type": "code",
   "execution_count": null,
   "id": "e524acf4",
   "metadata": {},
   "outputs": [],
   "source": [
    "# у фильма может быть несколько режиссеров\n",
    "# строка с запятыми будет преобразована в список строк\n",
    "df.directors = df.directors.apply(lambda x: x.split(',') if not pd.isna(x) else np.nan)\n",
    "df.writers = df.writers.apply(lambda x: x.split(',') if not pd.isna(x) else np.nan)\n",
    "\n",
    "df['number_of_directors'] = df.directors.apply(lambda x: len(x) if not np.all(pd.isna(x)) else np.nan)\n",
    "\n",
    "# у фильма может быть несколько жанров (до трех)\n",
    "# строка с запятыми будет преобразована в список строк\n",
    "# main_genre это первый жанр\n",
    "df['genres_lst'] = df.genres.apply(lambda x: \n",
    "                                   x.split(',') if not pd.isna(x) else np.nan)\n",
    "\n",
    "df['main_genre'] = df.genres_lst.apply(lambda x: \n",
    "                                       x[0] if not np.all(pd.isna(x)) else np.nan)\n",
    "\n",
    "df.head()"
   ]
  },
  {
   "cell_type": "code",
   "execution_count": null,
   "id": "ab3bd3f0",
   "metadata": {},
   "outputs": [],
   "source": [
    "sns.boxplot(df, x='main_genre', y='averageRating', hue='isAdult')\n",
    "plt.xticks(rotation=90);"
   ]
  },
  {
   "cell_type": "code",
   "execution_count": null,
   "id": "52467ff1",
   "metadata": {},
   "outputs": [],
   "source": [
    "sns.boxplot(df, x='main_genre', y='numVotes', hue='isAdult')\n",
    "plt.xticks(rotation=90);\n",
    "plt.yscale('log')"
   ]
  },
  {
   "cell_type": "code",
   "execution_count": null,
   "id": "d5fd8889",
   "metadata": {},
   "outputs": [],
   "source": [
    "# пусть в каждой строке будет указан только один режиссер\n",
    "# тогда фильму с двумя режиссерами, будет соответствовать две строки\n",
    "exploded = df.explode('directors')\n",
    "print(f'{exploded.shape=}')\n",
    "exploded.head()"
   ]
  },
  {
   "cell_type": "code",
   "execution_count": null,
   "id": "bb4d0f5b",
   "metadata": {},
   "outputs": [],
   "source": []
  },
  {
   "cell_type": "code",
   "execution_count": null,
   "id": "acd61ee2",
   "metadata": {},
   "outputs": [],
   "source": [
    "# добавляется информация о человеке\n",
    "films_with_directors = pd.merge(exploded, names, how='left', \n",
    "                                left_on=['directors'], right_on=['nconst'])\n",
    "print(f'{films_with_directors.shape=}')\n",
    "films_with_directors.head()"
   ]
  },
  {
   "cell_type": "code",
   "execution_count": null,
   "id": "fdbe92a6",
   "metadata": {},
   "outputs": [],
   "source": []
  },
  {
   "cell_type": "code",
   "execution_count": null,
   "id": "b1e5f7ac",
   "metadata": {},
   "outputs": [],
   "source": [
    "# сколько режиссеров сняли по какому количеству фильмов\n",
    "# индекс это количество фильмов\n",
    "# directors это сколько режиссеров сняли такое количество фильмов\n",
    "films_with_directors.groupby('directors').averageRating.count().reset_index().groupby('averageRating').count()"
   ]
  },
  {
   "cell_type": "code",
   "execution_count": null,
   "id": "6c26cb59",
   "metadata": {},
   "outputs": [],
   "source": []
  },
  {
   "cell_type": "code",
   "execution_count": null,
   "id": "1d7066f1",
   "metadata": {},
   "outputs": [],
   "source": [
    "films_with_directors.info()"
   ]
  },
  {
   "cell_type": "markdown",
   "id": "6915d450",
   "metadata": {},
   "source": [
    "нулевых значений в поле `genres` не очень много, можно было бы их и удалить"
   ]
  },
  {
   "cell_type": "code",
   "execution_count": null,
   "id": "2e6df1ce",
   "metadata": {},
   "outputs": [],
   "source": [
    "# может быть жанр фильма закодировать?\n",
    "pd.get_dummies(films_with_directors.main_genre)"
   ]
  },
  {
   "cell_type": "code",
   "execution_count": null,
   "id": "9747ce68",
   "metadata": {},
   "outputs": [],
   "source": []
  },
  {
   "cell_type": "code",
   "execution_count": null,
   "id": "6a6c1b26",
   "metadata": {},
   "outputs": [],
   "source": []
  },
  {
   "cell_type": "code",
   "execution_count": null,
   "id": "5544ac4b",
   "metadata": {},
   "outputs": [],
   "source": [
    "films_with_directors.head()"
   ]
  },
  {
   "cell_type": "code",
   "execution_count": null,
   "id": "97d7a356",
   "metadata": {},
   "outputs": [],
   "source": [
    "number_of_films = pd.pivot_table(films_with_directors, columns='main_genre', index=['nconst', 'primaryName'],\n",
    "                          values=['averageRating'], aggfunc='count').fillna(0)\n",
    "number_of_films.head()"
   ]
  },
  {
   "cell_type": "code",
   "execution_count": null,
   "id": "163b09a0",
   "metadata": {},
   "outputs": [],
   "source": [
    "number_of_films = pd.pivot_table(films_with_directors, columns='main_genre', \n",
    "                                 index=['nconst', 'primaryName', 'birthYear', 'deathYear', 'primaryProfession'],\n",
    "                          values=['averageRating'], aggfunc=['count']).fillna(0).reset_index()\n",
    "number_of_films.head()"
   ]
  },
  {
   "cell_type": "code",
   "execution_count": null,
   "id": "7d0f9c67",
   "metadata": {},
   "outputs": [],
   "source": [
    "average_score_of_films = pd.pivot_table(films_with_directors, columns='main_genre', \n",
    "                                        index=['nconst', 'primaryName', 'birthYear', 'deathYear', 'primaryProfession'],\n",
    "                          values=['averageRating'], aggfunc=['count', 'mean']).reset_index()#.to_flat_index()\n",
    "average_score_of_films.head()"
   ]
  },
  {
   "cell_type": "code",
   "execution_count": null,
   "id": "0e8066b7",
   "metadata": {},
   "outputs": [],
   "source": [
    "# average_score_of_films.columns = np.logical_or(average_score_of_films.columns.get_level_values(1),\n",
    "#                                                average_score_of_films.columns.get_level_values(0))\n",
    "\n",
    "average_score_of_films.columns = average_score_of_films.columns.get_level_values(0) + \\\n",
    "                                               average_score_of_films.columns.get_level_values(2)\n",
    "\n",
    "average_score_of_films.columns"
   ]
  },
  {
   "cell_type": "code",
   "execution_count": null,
   "id": "e5e581f2",
   "metadata": {},
   "outputs": [],
   "source": [
    "average_score_of_films.head()"
   ]
  },
  {
   "cell_type": "code",
   "execution_count": null,
   "id": "386b1642",
   "metadata": {},
   "outputs": [],
   "source": [
    "%%time\n",
    "# создается dataframe для режиссера\n",
    "aggregated = films_with_directors.groupby(['directors'] + list(names.columns)).agg(list).reset_index()\n",
    "print(f'{aggregated.shape=}')\n",
    "aggregated.head()"
   ]
  },
  {
   "cell_type": "code",
   "execution_count": null,
   "id": "953f4d9f",
   "metadata": {},
   "outputs": [],
   "source": [
    "from collections import Counter"
   ]
  },
  {
   "cell_type": "code",
   "execution_count": null,
   "id": "15830869",
   "metadata": {},
   "outputs": [],
   "source": [
    "aggregated['average_score'] = aggregated.averageRating.apply(np.mean)\n",
    "aggregated['most_common_genre'] = aggregated.main_genre.apply(lambda x: Counter(x).most_common()[0][0])"
   ]
  },
  {
   "cell_type": "code",
   "execution_count": null,
   "id": "8c43270c",
   "metadata": {},
   "outputs": [],
   "source": [
    "if 'writers' in aggregated.columns:\n",
    "    aggregated = aggregated.drop(columns=['writers', 'genres_lst'])"
   ]
  },
  {
   "cell_type": "code",
   "execution_count": null,
   "id": "e27cd8c9",
   "metadata": {},
   "outputs": [],
   "source": [
    "aggregated.head()"
   ]
  },
  {
   "cell_type": "code",
   "execution_count": null,
   "id": "cd120a64",
   "metadata": {},
   "outputs": [],
   "source": [
    "aggregated['best_movie'] = aggregated.apply(lambda x: x.primaryTitle[np.argmax(x.averageRating)], axis=1)\n",
    "aggregated['most_viewed'] = aggregated.apply(lambda x: x.primaryTitle[np.argmax(x.numVotes)], axis=1)"
   ]
  },
  {
   "cell_type": "code",
   "execution_count": null,
   "id": "8de04d79",
   "metadata": {},
   "outputs": [],
   "source": [
    "aggregated['number_of_movies'] = aggregated.averageRating.apply(len)"
   ]
  },
  {
   "cell_type": "code",
   "execution_count": null,
   "id": "e6fb25e1",
   "metadata": {},
   "outputs": [],
   "source": [
    "aggregated.head()"
   ]
  },
  {
   "cell_type": "code",
   "execution_count": null,
   "id": "db14eb47",
   "metadata": {},
   "outputs": [],
   "source": [
    "merged = pd.merge(aggregated, average_score_of_films, on=['nconst', 'primaryName', 'birthYear',\n",
    "                                                          'deathYear','primaryProfession'])\n",
    "merged.head()"
   ]
  },
  {
   "cell_type": "code",
   "execution_count": null,
   "id": "58c2ef54",
   "metadata": {},
   "outputs": [],
   "source": [
    "merged.to_csv('assets/directors_rating_by_genre.tsv', sep='\\t', index=False)"
   ]
  },
  {
   "cell_type": "code",
   "execution_count": null,
   "id": "039f918c",
   "metadata": {},
   "outputs": [],
   "source": []
  },
  {
   "cell_type": "markdown",
   "id": "361419ab",
   "metadata": {},
   "source": [
    "# Заключение\n",
    "\n",
    "`merged` датасет по режиссерам.\n",
    "\n",
    "`average_score` средняя оценка фильмов режиссера\n",
    "\n",
    "`averageRating` список из оценок фильмов\n",
    "\n",
    "`most_common_genre` жанр, в котором чаще всего снимает режиссер\n",
    "\n",
    "`most_viewed` фильм, для которого пользователи IMDb больше всех оценок поставили\n",
    "\n",
    "`number_of_movies` общее количество фильмов\n",
    "\n",
    "В колонке с жанром приведена средняя оценка режиссера по фильмам в соответствующем жанре.\n",
    "\n",
    "# Вопросы:\n",
    "1. Режиссер чаще снимает один или с кем-то?\n",
    "2. Какой лучший фильм у режиссера?\n",
    "3. Какая средняя оценка фильмов для самого частого жанра у этого режиссера?\n",
    "4. Как составить рейтинг режиссера, чтобы учесть популярность фильма, оценку и жанр? Нужно ли учитывать год?\n",
    "5. Как у режиссера может быть очень много фильмов?"
   ]
  },
  {
   "cell_type": "code",
   "execution_count": null,
   "id": "5eef4ed8",
   "metadata": {},
   "outputs": [],
   "source": []
  },
  {
   "cell_type": "markdown",
   "id": "17726b3d",
   "metadata": {},
   "source": [
    "# Графики"
   ]
  },
  {
   "cell_type": "code",
   "execution_count": null,
   "id": "eb5ad2d5",
   "metadata": {},
   "outputs": [],
   "source": [
    "from dash import Dash, dcc, html, Input, Output\n",
    "import plotly.express as px\n",
    "import plotly.graph_objects as go"
   ]
  },
  {
   "cell_type": "code",
   "execution_count": null,
   "id": "c9866697",
   "metadata": {},
   "outputs": [],
   "source": [
    "import plotly.express as px"
   ]
  },
  {
   "cell_type": "code",
   "execution_count": null,
   "id": "31f158a8",
   "metadata": {},
   "outputs": [],
   "source": [
    "fig = px.scatter(aggregated, x='birthYear', y='average_score', color='most_common_genre', \n",
    "                 size='number_of_movies', \n",
    "                 custom_data=['primaryName', 'number_of_movies', 'most_common_genre', 'best_movie'],\n",
    "                labels={'birthYear':'Год рождения','average_score':'Рейтинг',\n",
    "                            'most_common_genre':'Самый популярный жанр'})\n",
    "\n",
    "fig.update_traces( hovertemplate='<i>Режиссер</i>: %{customdata[0]}'+\n",
    "                '<br>Средняя оценка: %{y:.2f}<br>'+\n",
    "                'Количество фильмов:%{customdata[1]}<br>'+\n",
    "                'Самый частый жанр:%{customdata[2]}<br>' + \n",
    "                'Лучший фильм:%{customdata[3]}'\n",
    "    )\n",
    "\n",
    "fig.show()\n",
    "fig.write_html('assets/output/directors.html')"
   ]
  },
  {
   "cell_type": "code",
   "execution_count": null,
   "id": "6ad227bb",
   "metadata": {},
   "outputs": [],
   "source": [
    "genre = 'Comedy'\n",
    "\n",
    "fig = px.scatter(merged, x='birthYear', y='meanComedy', color='average_score', \n",
    "                 size='number_of_movies', \n",
    "                 custom_data=['primaryName', 'countComedy', 'most_common_genre', 'best_movie'],\n",
    "                labels={'birthYear':'Год рождения','meanComedy':'Рейтинг', 'average_score':'Рейтинг по всем фильмам',\n",
    "                            'most_common_genre':'Самый популярный жанр'},\n",
    "                 title=genre)\n",
    "\n",
    "fig.update_traces( hovertemplate='<i>Режиссер</i>: %{customdata[0]}'+\n",
    "                '<br>Средняя оценка по жанру: %{y:.2f}<br>'+\n",
    "                'Количество фильмов жанра:%{customdata[1]}<br>'+\n",
    "                'Самый частый жанр:%{customdata[2]}<br>' + \n",
    "                  'Лучший фильм:%{customdata[3]}'\n",
    "    )\n",
    "\n",
    "fig.show()\n",
    "fig.write_html(f'assets/output/directors_{genre}.html')\n",
    "# сохранение в png слишком медленное, дождаться не удалось\n",
    "# fig.write_image(f'assets/output/directors_{genre}.png')"
   ]
  },
  {
   "cell_type": "markdown",
   "id": "f8e0683b",
   "metadata": {},
   "source": [
    "!pip install -U kaleido"
   ]
  },
  {
   "cell_type": "markdown",
   "id": "8b639029",
   "metadata": {},
   "source": [
    "!pip install dash"
   ]
  },
  {
   "cell_type": "code",
   "execution_count": null,
   "id": "666feef1",
   "metadata": {
    "scrolled": false
   },
   "outputs": [],
   "source": [
    "app = Dash(__name__)\n",
    "\n",
    "\n",
    "app.layout = html.Div([\n",
    "    html.H4('Рейтинг режиссеров'),\n",
    "    dcc.Graph(id=\"scatter-plot\"),\n",
    "    html.P(\"Фильтр по количеству фильмов режиссера:\"),\n",
    "    dcc.RangeSlider(\n",
    "        id='range-slider',\n",
    "        min=0, max=1228, step=1,\n",
    "        marks={x: str(x) for x  in range(50, 1000, 50)},\n",
    "        value=[0, 1300]\n",
    "    ),\n",
    "])\n",
    "\n",
    "\n",
    "@app.callback(\n",
    "    Output(\"scatter-plot\", \"figure\"), \n",
    "    Input(\"range-slider\", \"value\"))\n",
    "def update_bar_chart(slider_range):\n",
    "    #df = px.data.iris() # replace with your own data source\n",
    "    low, high = slider_range\n",
    "    mask = (aggregated['number_of_movies'] > low) & (aggregated['number_of_movies'] < high)\n",
    "    fig = px.scatter(aggregated[mask], x='birthYear', y='average_score', color='most_common_genre', \n",
    "                 size='number_of_movies', custom_data=['primaryName', 'number_of_movies', 'most_common_genre'],\n",
    "                     labels={'birthYear':'Год рождения','average_score':'Рейтинг',\n",
    "                            'most_common_genre':'Самый популярный жанр'},\n",
    "            )\n",
    "    \n",
    "    \n",
    "    fig.update_traces( hovertemplate='<i>Режиссер</i>: %{customdata[0]}'+\n",
    "                '<br>Средняя оценка: %{y:.2f}<br>'+\n",
    "                'Количество фильмов:%{customdata[1]}<br>'+\n",
    "                'Самый частый жанр:%{customdata[2]}'\n",
    "    )\n",
    "    fig.update_xaxes(range=[aggregated.birthYear.min(),aggregated.birthYear.max()])\n",
    "    fig.update_yaxes(range=[aggregated.average_score.min(),aggregated.average_score.max()])\n",
    "    return fig\n",
    "\n",
    "\n",
    "app.run_server(debug=True, host= '127.0.0.1', port=8899)"
   ]
  },
  {
   "cell_type": "code",
   "execution_count": null,
   "id": "e2fe9247",
   "metadata": {},
   "outputs": [],
   "source": []
  }
 ],
 "metadata": {
  "kernelspec": {
   "display_name": "Python 3 (ipykernel)",
   "language": "python",
   "name": "python3"
  },
  "language_info": {
   "codemirror_mode": {
    "name": "ipython",
    "version": 3
   },
   "file_extension": ".py",
   "mimetype": "text/x-python",
   "name": "python",
   "nbconvert_exporter": "python",
   "pygments_lexer": "ipython3",
   "version": "3.9.16"
  }
 },
 "nbformat": 4,
 "nbformat_minor": 5
}
