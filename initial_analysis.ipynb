{
 "cells": [
  {
   "cell_type": "markdown",
   "metadata": {},
   "source": [
    "## Групповой проект. Exploratory Data Analysis\n",
    "## Команда FlexML\n",
    " - Гуськова Мария\n",
    " - Мусин Олег\n",
    " - Сухотин Олег\n",
    " - Ванцов Иван"
   ]
  },
  {
   "cell_type": "markdown",
   "metadata": {},
   "source": [
    "## Первичный анализ полученных данных\n",
    "\n",
    "Проведем первичную очистку данных, полученных от Netflix.\n"
   ]
  },
  {
   "cell_type": "code",
   "execution_count": 2,
   "metadata": {},
   "outputs": [],
   "source": [
    "import numpy as np\n",
    "import pandas as pd\n",
    "import scipy.stats as sps\n",
    "import matplotlib.pyplot as plt\n",
    "import seaborn as sns\n",
    "import warnings\n",
    "warnings.filterwarnings('ignore')"
   ]
  },
  {
   "cell_type": "code",
   "execution_count": 20,
   "metadata": {},
   "outputs": [
    {
     "name": "stdout",
     "output_type": "stream",
     "text": [
      "<class 'pandas.core.frame.DataFrame'>\n",
      "RangeIndex: 1000 entries, 0 to 999\n",
      "Data columns (total 7 columns):\n",
      " #   Column             Non-Null Count  Dtype  \n",
      "---  ------             --------------  -----  \n",
      " 0   title              1000 non-null   object \n",
      " 1   rating             1000 non-null   object \n",
      " 2   ratingLevel        941 non-null    object \n",
      " 3   ratingDescription  1000 non-null   int64  \n",
      " 4   release year       1000 non-null   int64  \n",
      " 5   user rating score  605 non-null    float64\n",
      " 6   user rating size   1000 non-null   int64  \n",
      "dtypes: float64(1), int64(3), object(3)\n",
      "memory usage: 54.8+ KB\n"
     ]
    }
   ],
   "source": [
    "netflix_shows = pd.read_excel('assets/NetflixShows.xlsx')\n",
    "netflix_shows.info()\n",
    "#netflix_shows.columns"
   ]
  },
  {
   "cell_type": "markdown",
   "metadata": {},
   "source": [
    "1000 записей всего.\n",
    "Разберем колонки нашего датасета и предложим спектр проблем или особенностей\n",
    "| Колонка           | Текущий тип | Комментарий                                                                                                                               |\n",
    "| ----------------- | ----------- | ----------------------------------------------------------------------------------------------------------------------------------------- |\n",
    "| title             | object      | Любая последовательность букв на латинице и цифр (есть пример - \"3%\"). Есть риск дубликатов по неполному совпадению, требуется проверить. |\n",
    "| rating            | object      |                                                                                                                                           |\n",
    "| ratingLevel       | object      |                                                                                                                                           |\n",
    "| ratingDescription | int64       |                                                                                                                                           |\n",
    "| release year      |             | int64                                                                                                                                     |\n",
    "| user rating score | float64     |                                                                                                                                           |\n",
    "| user rating size  | int64       |                                                                                                                                           |\n"
   ]
  }
 ],
 "metadata": {
  "kernelspec": {
   "display_name": "env",
   "language": "python",
   "name": "python3"
  },
  "language_info": {
   "codemirror_mode": {
    "name": "ipython",
    "version": 3
   },
   "file_extension": ".py",
   "mimetype": "text/x-python",
   "name": "python",
   "nbconvert_exporter": "python",
   "pygments_lexer": "ipython3",
   "version": "3.13.0"
  }
 },
 "nbformat": 4,
 "nbformat_minor": 2
}
