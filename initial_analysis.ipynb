{
 "cells": [
  {
   "cell_type": "markdown",
   "metadata": {},
   "source": [
    "## Групповой проект команды FlexML. Exploratory Data Analysis\n",
    " - Гуськова Мария\n",
    " - Мусин Олег\n",
    " - Сухотин Олег\n",
    " - Ванцов Иван"
   ]
  },
  {
   "cell_type": "markdown",
   "metadata": {},
   "source": [
    "## Первичный анализ полученных данных\n",
    "Проведем первичную очистку данных, полученных от Netflix."
   ]
  },
  {
   "cell_type": "code",
   "execution_count": 5,
   "metadata": {},
   "outputs": [],
   "source": [
    "import numpy as np\n",
    "import pandas as pd\n",
    "import scipy.stats as sps\n",
    "import matplotlib.pyplot as plt\n",
    "import seaborn as sns\n",
    "import warnings\n",
    "import plotly.express as px\n",
    "warnings.filterwarnings('ignore')"
   ]
  },
  {
   "cell_type": "code",
   "execution_count": 6,
   "metadata": {},
   "outputs": [
    {
     "name": "stdout",
     "output_type": "stream",
     "text": [
      "<class 'pandas.core.frame.DataFrame'>\n",
      "RangeIndex: 500 entries, 0 to 499\n",
      "Data columns (total 8 columns):\n",
      " #   Column             Non-Null Count  Dtype  \n",
      "---  ------             --------------  -----  \n",
      " 0   title              500 non-null    object \n",
      " 1   rating             500 non-null    object \n",
      " 2   ratingLevel        467 non-null    object \n",
      " 3   ratingDescription  500 non-null    int64  \n",
      " 4   release year       500 non-null    int64  \n",
      " 5   user rating score  256 non-null    float64\n",
      " 6   user rating size   500 non-null    int64  \n",
      " 7   link               499 non-null    object \n",
      "dtypes: float64(1), int64(3), object(4)\n",
      "memory usage: 31.4+ KB\n"
     ]
    },
    {
     "data": {
      "text/html": [
       "<div>\n",
       "<style scoped>\n",
       "    .dataframe tbody tr th:only-of-type {\n",
       "        vertical-align: middle;\n",
       "    }\n",
       "\n",
       "    .dataframe tbody tr th {\n",
       "        vertical-align: top;\n",
       "    }\n",
       "\n",
       "    .dataframe thead th {\n",
       "        text-align: right;\n",
       "    }\n",
       "</style>\n",
       "<table border=\"1\" class=\"dataframe\">\n",
       "  <thead>\n",
       "    <tr style=\"text-align: right;\">\n",
       "      <th></th>\n",
       "      <th>release_year</th>\n",
       "      <th>score</th>\n",
       "      <th>size</th>\n",
       "    </tr>\n",
       "  </thead>\n",
       "  <tbody>\n",
       "    <tr>\n",
       "      <th>count</th>\n",
       "      <td>500.000000</td>\n",
       "      <td>256.000000</td>\n",
       "      <td>500.000000</td>\n",
       "    </tr>\n",
       "    <tr>\n",
       "      <th>mean</th>\n",
       "      <td>2010.976000</td>\n",
       "      <td>81.398438</td>\n",
       "      <td>80.972000</td>\n",
       "    </tr>\n",
       "    <tr>\n",
       "      <th>std</th>\n",
       "      <td>7.829305</td>\n",
       "      <td>12.730904</td>\n",
       "      <td>0.998604</td>\n",
       "    </tr>\n",
       "    <tr>\n",
       "      <th>min</th>\n",
       "      <td>1940.000000</td>\n",
       "      <td>55.000000</td>\n",
       "      <td>80.000000</td>\n",
       "    </tr>\n",
       "    <tr>\n",
       "      <th>25%</th>\n",
       "      <td>2009.000000</td>\n",
       "      <td>71.000000</td>\n",
       "      <td>80.000000</td>\n",
       "    </tr>\n",
       "    <tr>\n",
       "      <th>50%</th>\n",
       "      <td>2014.000000</td>\n",
       "      <td>83.500000</td>\n",
       "      <td>80.000000</td>\n",
       "    </tr>\n",
       "    <tr>\n",
       "      <th>75%</th>\n",
       "      <td>2016.000000</td>\n",
       "      <td>93.000000</td>\n",
       "      <td>82.000000</td>\n",
       "    </tr>\n",
       "    <tr>\n",
       "      <th>max</th>\n",
       "      <td>2017.000000</td>\n",
       "      <td>99.000000</td>\n",
       "      <td>82.000000</td>\n",
       "    </tr>\n",
       "  </tbody>\n",
       "</table>\n",
       "</div>"
      ],
      "text/plain": [
       "       release_year       score        size\n",
       "count    500.000000  256.000000  500.000000\n",
       "mean    2010.976000   81.398438   80.972000\n",
       "std        7.829305   12.730904    0.998604\n",
       "min     1940.000000   55.000000   80.000000\n",
       "25%     2009.000000   71.000000   80.000000\n",
       "50%     2014.000000   83.500000   80.000000\n",
       "75%     2016.000000   93.000000   82.000000\n",
       "max     2017.000000   99.000000   82.000000"
      ]
     },
     "execution_count": 6,
     "metadata": {},
     "output_type": "execute_result"
    }
   ],
   "source": [
    "netflix_shows = pd.read_excel('assets/NetflixShows.xlsx')\n",
    "netflix_shows.info() # для определения типа данных в колонках, анализа возможных пропусков\n",
    "netflix_shows[\"ratingDescription\"].sort_values() # для определения диапазона значений колонки\n",
    "ns_cleared = netflix_shows.drop_duplicates() # для удаление дубликатов\n",
    "ns_cleared = ns_cleared.drop('ratingLevel', axis=1) # удаляем колонку ratingLevel, ratingDescription, axis=1 = означает колонки (0 - строки)\n",
    "ns_cleared = ns_cleared.drop('ratingDescription', axis=1)\n",
    "\n",
    "ns_cleared.head\n",
    "ns_cleared.isna().sum() # посчитаем, сколько значений nan, чтобы убедиться, что они только в колонке user rating score\n",
    "\n",
    "\n",
    "# переименования для удобства\n",
    "# ratingLevel -> age_rating\n",
    "# release year -> release_year\n",
    "# user rating score -> score\n",
    "# user rating size -> size\n",
    "ns_cleared = ns_cleared.rename(columns={'rating': 'age_rating'})\n",
    "ns_cleared = ns_cleared.rename(columns={'release year': 'release_year'})\n",
    "ns_cleared = ns_cleared.rename(columns={'user rating score': 'score'})\n",
    "ns_cleared = ns_cleared.rename(columns={'user rating size': 'size'})\n",
    "ns_cleared.describe() # проанализируем данные в таблице в общем виде"
   ]
  },
  {
   "cell_type": "markdown",
   "metadata": {},
   "source": [
    "1000 записей всего.\n",
    "Разберем колонки нашего датасета и предложим спектр проблем или особенностей\n",
    "| Колонка           | Текущий тип | Комментарий                                                                                                                               |\n",
    "| ----------------- | ----------- | ----------------------------------------------------------------------------------------------------------------------------------------- |\n",
    "| title             | object      | Любая последовательность букв на латинице и цифр (есть пример - \"3%\"). Есть риск дубликатов по неполному совпадению, требуется проверить. |\n",
    "| rating            | object      | Код категории, пропусков нет                                                                                                              |\n",
    "| ratingLevel       | object      | Описаниние категории, может отсутствовать. Дополнительного смысла, отличного от ragingLevel, не несет.                                    |\n",
    "| ratingDescription | int64       | Закодированное значение рейтинга. Диапазон значений: от 10 до 124. Способ формирования - неизвестен                                       |\n",
    "| release year      | int64       | Год выпуска, пропусков нет.                                                                                                               |\n",
    "| user rating score | float64     | Числовое значение рейтинга. Может отсутствовать, вместо пропусков - NA (244 пропуска)                                                     |\n",
    "| user rating size  | int64       | Общий рейтинг пользователей. Пропусков или не-числовых значений - нет.                                                                    |\n",
    "\n",
    "\n"
   ]
  },
  {
   "cell_type": "markdown",
   "metadata": {},
   "source": [
    "EDA\n",
    " - удаление колонки ratingLevel, как не несущей дополнительного смысла\n",
    " - удаление дубликатов. В исходной таблице 500 полных дублей.\n",
    " - что у нас в таблице - фильмы и/или сериалы?\n",
    " - анализ \"похожести\" названий - сколько дублей по этому признаку?\n",
    " \n",
    "\n",
    "Результаты \"очищенного\" датасета, первые выводы:\n",
    " - данные по 500 уникальным шоу\n",
    " - данные по шоу с 1940 по 2017 год. Больше всего данных по шоу с 2014 года\n",
    "\n",
    "Далее повышаем детализацию первичного анализа и ищем более интересные признаки.\n"
   ]
  },
  {
   "cell_type": "code",
   "execution_count": 7,
   "metadata": {},
   "outputs": [
    {
     "data": {
      "image/png": "[encoded data removed]",
      "text/plain": [
       "<Figure size 640x480 with 1 Axes>"
      ]
     },
     "metadata": {},
     "output_type": "display_data"
    }
   ],
   "source": [
    "# построим гистограмму распределения user rating score\n",
    "plt.hist(ns_cleared['score'], bins = 100, edgecolor = 'r')\n",
    "plt.xlabel('Score')\n",
    "plt.ylabel('Number of shows')\n",
    "plt.title('Shows Score Distribution')\n",
    "\n",
    "plt.savefig(\"assets/output/user_rating_score.png\", dpi=300)\n"
   ]
  },
  {
   "cell_type": "markdown",
   "metadata": {},
   "source": [
    "На основании гистограммы, видно что кол-во шоу с рейтингом выше 80 больше, чем обратных"
   ]
  },
  {
   "cell_type": "code",
   "execution_count": 8,
   "metadata": {},
   "outputs": [
    {
     "data": {
      "image/png": "[encoded data removed]",
      "text/plain": [
       "<Figure size 640x480 with 1 Axes>"
      ]
     },
     "metadata": {},
     "output_type": "display_data"
    }
   ],
   "source": [
    "# построим гистограмму распределения user rating size\n",
    "plt.hist(ns_cleared['size'], bins = 100, edgecolor = 'r')\n",
    "plt.xlabel('Size')\n",
    "plt.ylabel('Number of score size')\n",
    "plt.title('Shows Score Size Distribution')\n",
    "\n",
    "plt.savefig(\"assets/output/user_rating_size.png\", dpi=300)"
   ]
  },
  {
   "cell_type": "markdown",
   "metadata": {},
   "source": [
    "На основании гистограммы видно, что существует всего 3 типа score_size (80, 81, 82). Со слова Ю. Сночкина эти данные нам не нужны и не имеют смысла."
   ]
  },
  {
   "cell_type": "code",
   "execution_count": 9,
   "metadata": {},
   "outputs": [
    {
     "data": {
      "image/png": "[encoded data removed]",
      "text/plain": [
       "<Figure size 1200x600 with 1 Axes>"
      ]
     },
     "metadata": {},
     "output_type": "display_data"
    }
   ],
   "source": [
    "# Посмотрим, как оценки на фильмы менялись во времени\n",
    "plt.figure(figsize=(12, 6))\n",
    "sns.lineplot(x='release_year', y='score', data=ns_cleared, marker='o', color='r')\n",
    "plt.title('Score Change Over Release year', fontsize=16)\n",
    "plt.xlabel('Release year', fontsize=12)\n",
    "plt.ylabel('Score', fontsize=12)\n",
    "\n",
    "plt.savefig(\"assets/output/score_change_over_release_year.png\", dpi=300)\n",
    "\n",
    "plt.show()"
   ]
  },
  {
   "cell_type": "code",
   "execution_count": null,
   "metadata": {},
   "outputs": [],
   "source": [
    "# Посмотрим, как категории фильмов менялись во времени. Посчитаем количества всех категорий по годам."
   ]
  },
  {
   "cell_type": "markdown",
   "metadata": {},
   "source": [
    "Проанализируем возрастные категории шоу.\n",
    "Уникальных категорий: 13.\n",
    "Самая популярная: TV-14.\n",
    "\n",
    "Проанализируем кол-во шоу в разных категориях"
   ]
  },
  {
   "cell_type": "code",
   "execution_count": 10,
   "metadata": {},
   "outputs": [
    {
     "data": {
      "application/vnd.plotly.v1+json": {
       "config": {
        "plotlyServerURL": "https://plot.ly"
       },
       "data": [
        {
         "alignmentgroup": "True",
         "bingroup": "x",
         "histfunc": "sum",
         "hovertemplate": "age_rating=G<br>release_year=%{x}<br>sum of count=%{y}<extra></extra>",
         "legendgroup": "G",
         "marker": {
          "color": "#636efa",
          "pattern": {
           "shape": ""
          }
         },
         "name": "G",
         "offsetgroup": "G",
         "orientation": "v",
         "showlegend": true,
         "texttemplate": "%{value}",
         "type": "histogram",
         "x": [
          1976,
          1982,
          1986,
          1990,
          1991,
          1992,
          1993,
          1995,
          1997,
          1998,
          1999,
          2000,
          2001,
          2002,
          2003,
          2004,
          2005,
          2006,
          2009,
          2011,
          2012,
          2013,
          2014,
          2015,
          2016
         ],
         "xaxis": "x",
         "y": [
          1,
          1,
          1,
          1,
          1,
          1,
          2,
          1,
          3,
          3,
          3,
          5,
          1,
          2,
          4,
          4,
          3,
          3,
          1,
          1,
          2,
          1,
          3,
          1,
          3
         ],
         "yaxis": "y"
        },
        {
         "alignmentgroup": "True",
         "bingroup": "x",
         "histfunc": "sum",
         "hovertemplate": "age_rating=PG<br>release_year=%{x}<br>sum of count=%{y}<extra></extra>",
         "legendgroup": "PG",
         "marker": {
          "color": "#EF553B",
          "pattern": {
           "shape": ""
          }
         },
         "name": "PG",
         "offsetgroup": "PG",
         "orientation": "v",
         "showlegend": true,
         "texttemplate": "%{value}",
         "type": "histogram",
         "x": [
          1978,
          1982,
          1987,
          1989,
          1993,
          1994,
          1995,
          1997,
          1998,
          1999,
          2000,
          2001,
          2002,
          2003,
          2004,
          2005,
          2006,
          2007,
          2008,
          2009,
          2010,
          2011,
          2012,
          2013,
          2014,
          2015,
          2016
         ],
         "xaxis": "x",
         "y": [
          1,
          1,
          1,
          1,
          2,
          4,
          1,
          3,
          3,
          1,
          1,
          2,
          2,
          2,
          1,
          3,
          1,
          3,
          3,
          1,
          1,
          2,
          2,
          4,
          5,
          9,
          16
         ],
         "yaxis": "y"
        },
        {
         "alignmentgroup": "True",
         "bingroup": "x",
         "histfunc": "sum",
         "hovertemplate": "age_rating=TV-Y7<br>release_year=%{x}<br>sum of count=%{y}<extra></extra>",
         "legendgroup": "TV-Y7",
         "marker": {
          "color": "#00cc96",
          "pattern": {
           "shape": ""
          }
         },
         "name": "TV-Y7",
         "offsetgroup": "TV-Y7",
         "orientation": "v",
         "showlegend": true,
         "texttemplate": "%{value}",
         "type": "histogram",
         "x": [
          1989,
          1990,
          1997,
          1998,
          2007,
          2008,
          2009,
          2013,
          2014,
          2015,
          2016,
          2017
         ],
         "xaxis": "x",
         "y": [
          1,
          1,
          1,
          1,
          1,
          1,
          1,
          1,
          3,
          3,
          6,
          3
         ],
         "yaxis": "y"
        },
        {
         "alignmentgroup": "True",
         "bingroup": "x",
         "histfunc": "sum",
         "hovertemplate": "age_rating=TV-Y<br>release_year=%{x}<br>sum of count=%{y}<extra></extra>",
         "legendgroup": "TV-Y",
         "marker": {
          "color": "#ab63fa",
          "pattern": {
           "shape": ""
          }
         },
         "name": "TV-Y",
         "offsetgroup": "TV-Y",
         "orientation": "v",
         "showlegend": true,
         "texttemplate": "%{value}",
         "type": "histogram",
         "x": [
          1993,
          1997,
          2000,
          2002,
          2003,
          2007,
          2008,
          2009,
          2010,
          2011,
          2012,
          2013,
          2014,
          2015,
          2016
         ],
         "xaxis": "x",
         "y": [
          1,
          1,
          1,
          1,
          1,
          2,
          1,
          2,
          3,
          1,
          3,
          3,
          2,
          7,
          7
         ],
         "yaxis": "y"
        },
        {
         "alignmentgroup": "True",
         "bingroup": "x",
         "histfunc": "sum",
         "hovertemplate": "age_rating=TV-Y7-FV<br>release_year=%{x}<br>sum of count=%{y}<extra></extra>",
         "legendgroup": "TV-Y7-FV",
         "marker": {
          "color": "#FFA15A",
          "pattern": {
           "shape": ""
          }
         },
         "name": "TV-Y7-FV",
         "offsetgroup": "TV-Y7-FV",
         "orientation": "v",
         "showlegend": true,
         "texttemplate": "%{value}",
         "type": "histogram",
         "x": [
          1996,
          1997,
          2003,
          2005,
          2008,
          2010,
          2011,
          2013,
          2014,
          2015,
          2016,
          2017
         ],
         "xaxis": "x",
         "y": [
          1,
          1,
          1,
          1,
          1,
          1,
          1,
          3,
          1,
          4,
          6,
          4
         ],
         "yaxis": "y"
        },
        {
         "alignmentgroup": "True",
         "bingroup": "x",
         "histfunc": "sum",
         "hovertemplate": "age_rating=PG-13<br>release_year=%{x}<br>sum of count=%{y}<extra></extra>",
         "legendgroup": "PG-13",
         "marker": {
          "color": "#19d3f3",
          "pattern": {
           "shape": ""
          }
         },
         "name": "PG-13",
         "offsetgroup": "PG-13",
         "orientation": "v",
         "showlegend": true,
         "texttemplate": "%{value}",
         "type": "histogram",
         "x": [
          1998,
          1999,
          2001,
          2003,
          2004,
          2006,
          2008,
          2011,
          2012,
          2013
         ],
         "xaxis": "x",
         "y": [
          1,
          1,
          1,
          1,
          1,
          2,
          1,
          1,
          2,
          1
         ],
         "yaxis": "y"
        },
        {
         "alignmentgroup": "True",
         "bingroup": "x",
         "histfunc": "sum",
         "hovertemplate": "age_rating=TV-G<br>release_year=%{x}<br>sum of count=%{y}<extra></extra>",
         "legendgroup": "TV-G",
         "marker": {
          "color": "#FF6692",
          "pattern": {
           "shape": ""
          }
         },
         "name": "TV-G",
         "offsetgroup": "TV-G",
         "orientation": "v",
         "showlegend": true,
         "texttemplate": "%{value}",
         "type": "histogram",
         "x": [
          1998,
          2003,
          2006,
          2007,
          2009,
          2010,
          2011,
          2012,
          2013,
          2014,
          2015,
          2016
         ],
         "xaxis": "x",
         "y": [
          1,
          1,
          1,
          1,
          3,
          2,
          2,
          3,
          5,
          2,
          4,
          4
         ],
         "yaxis": "y"
        },
        {
         "alignmentgroup": "True",
         "bingroup": "x",
         "histfunc": "sum",
         "hovertemplate": "age_rating=R<br>release_year=%{x}<br>sum of count=%{y}<extra></extra>",
         "legendgroup": "R",
         "marker": {
          "color": "#B6E880",
          "pattern": {
           "shape": ""
          }
         },
         "name": "R",
         "offsetgroup": "R",
         "orientation": "v",
         "showlegend": true,
         "texttemplate": "%{value}",
         "type": "histogram",
         "x": [
          2001,
          2004,
          2006,
          2011,
          2012,
          2014,
          2015,
          2016
         ],
         "xaxis": "x",
         "y": [
          2,
          1,
          1,
          1,
          1,
          2,
          2,
          4
         ],
         "yaxis": "y"
        },
        {
         "alignmentgroup": "True",
         "bingroup": "x",
         "histfunc": "sum",
         "hovertemplate": "age_rating=TV-14<br>release_year=%{x}<br>sum of count=%{y}<extra></extra>",
         "legendgroup": "TV-14",
         "marker": {
          "color": "#FF97FF",
          "pattern": {
           "shape": ""
          }
         },
         "name": "TV-14",
         "offsetgroup": "TV-14",
         "orientation": "v",
         "showlegend": true,
         "texttemplate": "%{value}",
         "type": "histogram",
         "x": [
          2003,
          2005,
          2006,
          2008,
          2010,
          2011,
          2012,
          2013,
          2014,
          2015,
          2016,
          2017
         ],
         "xaxis": "x",
         "y": [
          1,
          2,
          2,
          1,
          3,
          4,
          9,
          7,
          6,
          17,
          49,
          5
         ],
         "yaxis": "y"
        },
        {
         "alignmentgroup": "True",
         "bingroup": "x",
         "histfunc": "sum",
         "hovertemplate": "age_rating=TV-PG<br>release_year=%{x}<br>sum of count=%{y}<extra></extra>",
         "legendgroup": "TV-PG",
         "marker": {
          "color": "#FECB52",
          "pattern": {
           "shape": ""
          }
         },
         "name": "TV-PG",
         "offsetgroup": "TV-PG",
         "orientation": "v",
         "showlegend": true,
         "texttemplate": "%{value}",
         "type": "histogram",
         "x": [
          2005,
          2008,
          2009,
          2010,
          2011,
          2012,
          2013,
          2014,
          2015,
          2016,
          2017
         ],
         "xaxis": "x",
         "y": [
          1,
          3,
          1,
          2,
          2,
          4,
          2,
          5,
          5,
          6,
          2
         ],
         "yaxis": "y"
        },
        {
         "alignmentgroup": "True",
         "bingroup": "x",
         "histfunc": "sum",
         "hovertemplate": "age_rating=TV-MA<br>release_year=%{x}<br>sum of count=%{y}<extra></extra>",
         "legendgroup": "TV-MA",
         "marker": {
          "color": "#636efa",
          "pattern": {
           "shape": ""
          }
         },
         "name": "TV-MA",
         "offsetgroup": "TV-MA",
         "orientation": "v",
         "showlegend": true,
         "texttemplate": "%{value}",
         "type": "histogram",
         "x": [
          2007,
          2009,
          2010,
          2012,
          2013,
          2014,
          2015,
          2016,
          2017
         ],
         "xaxis": "x",
         "y": [
          1,
          1,
          1,
          1,
          4,
          4,
          9,
          38,
          23
         ],
         "yaxis": "y"
        },
        {
         "alignmentgroup": "True",
         "bingroup": "x",
         "histfunc": "sum",
         "hovertemplate": "age_rating=NR<br>release_year=%{x}<br>sum of count=%{y}<extra></extra>",
         "legendgroup": "NR",
         "marker": {
          "color": "#EF553B",
          "pattern": {
           "shape": ""
          }
         },
         "name": "NR",
         "offsetgroup": "NR",
         "orientation": "v",
         "showlegend": true,
         "texttemplate": "%{value}",
         "type": "histogram",
         "x": [
          2013,
          2014,
          2016
         ],
         "xaxis": "x",
         "y": [
          2,
          2,
          6
         ],
         "yaxis": "y"
        },
        {
         "alignmentgroup": "True",
         "bingroup": "x",
         "histfunc": "sum",
         "hovertemplate": "age_rating=UR<br>release_year=%{x}<br>sum of count=%{y}<extra></extra>",
         "legendgroup": "UR",
         "marker": {
          "color": "#00cc96",
          "pattern": {
           "shape": ""
          }
         },
         "name": "UR",
         "offsetgroup": "UR",
         "orientation": "v",
         "showlegend": true,
         "texttemplate": "%{value}",
         "type": "histogram",
         "x": [
          2016
         ],
         "xaxis": "x",
         "y": [
          1
         ],
         "yaxis": "y"
        }
       ],
       "layout": {
        "bargap": 0.2,
        "barmode": "group",
        "legend": {
         "title": {
          "text": "Rating"
         },
         "tracegroupgap": 0
        },
        "template": {
         "data": {
          "bar": [
           {
            "error_x": {
             "color": "#2a3f5f"
            },
            "error_y": {
             "color": "#2a3f5f"
            },
            "marker": {
             "line": {
              "color": "#E5ECF6",
              "width": 0.5
             },
             "pattern": {
              "fillmode": "overlay",
              "size": 10,
              "solidity": 0.2
             }
            },
            "type": "bar"
           }
          ],
          "barpolar": [
           {
            "marker": {
             "line": {
              "color": "#E5ECF6",
              "width": 0.5
             },
             "pattern": {
              "fillmode": "overlay",
              "size": 10,
              "solidity": 0.2
             }
            },
            "type": "barpolar"
           }
          ],
          "carpet": [
           {
            "aaxis": {
             "endlinecolor": "#2a3f5f",
             "gridcolor": "white",
             "linecolor": "white",
             "minorgridcolor": "white",
             "startlinecolor": "#2a3f5f"
            },
            "baxis": {
             "endlinecolor": "#2a3f5f",
             "gridcolor": "white",
             "linecolor": "white",
             "minorgridcolor": "white",
             "startlinecolor": "#2a3f5f"
            },
            "type": "carpet"
           }
          ],
          "choropleth": [
           {
            "colorbar": {
             "outlinewidth": 0,
             "ticks": ""
            },
            "type": "choropleth"
           }
          ],
          "contour": [
           {
            "colorbar": {
             "outlinewidth": 0,
             "ticks": ""
            },
            "colorscale": [
             [
              0,
              "#0d0887"
             ],
             [
              0.1111111111111111,
              "#46039f"
             ],
             [
              0.2222222222222222,
              "#7201a8"
             ],
             [
              0.3333333333333333,
              "#9c179e"
             ],
             [
              0.4444444444444444,
              "#bd3786"
             ],
             [
              0.5555555555555556,
              "#d8576b"
             ],
             [
              0.6666666666666666,
              "#ed7953"
             ],
             [
              0.7777777777777778,
              "#fb9f3a"
             ],
             [
              0.8888888888888888,
              "#fdca26"
             ],
             [
              1,
              "#f0f921"
             ]
            ],
            "type": "contour"
           }
          ],
          "contourcarpet": [
           {
            "colorbar": {
             "outlinewidth": 0,
             "ticks": ""
            },
            "type": "contourcarpet"
           }
          ],
          "heatmap": [
           {
            "colorbar": {
             "outlinewidth": 0,
             "ticks": ""
            },
            "colorscale": [
             [
              0,
              "#0d0887"
             ],
             [
              0.1111111111111111,
              "#46039f"
             ],
             [
              0.2222222222222222,
              "#7201a8"
             ],
             [
              0.3333333333333333,
              "#9c179e"
             ],
             [
              0.4444444444444444,
              "#bd3786"
             ],
             [
              0.5555555555555556,
              "#d8576b"
             ],
             [
              0.6666666666666666,
              "#ed7953"
             ],
             [
              0.7777777777777778,
              "#fb9f3a"
             ],
             [
              0.8888888888888888,
              "#fdca26"
             ],
             [
              1,
              "#f0f921"
             ]
            ],
            "type": "heatmap"
           }
          ],
          "heatmapgl": [
           {
            "colorbar": {
             "outlinewidth": 0,
             "ticks": ""
            },
            "colorscale": [
             [
              0,
              "#0d0887"
             ],
             [
              0.1111111111111111,
              "#46039f"
             ],
             [
              0.2222222222222222,
              "#7201a8"
             ],
             [
              0.3333333333333333,
              "#9c179e"
             ],
             [
              0.4444444444444444,
              "#bd3786"
             ],
             [
              0.5555555555555556,
              "#d8576b"
             ],
             [
              0.6666666666666666,
              "#ed7953"
             ],
             [
              0.7777777777777778,
              "#fb9f3a"
             ],
             [
              0.8888888888888888,
              "#fdca26"
             ],
             [
              1,
              "#f0f921"
             ]
            ],
            "type": "heatmapgl"
           }
          ],
          "histogram": [
           {
            "marker": {
             "pattern": {
              "fillmode": "overlay",
              "size": 10,
              "solidity": 0.2
             }
            },
            "type": "histogram"
           }
          ],
          "histogram2d": [
           {
            "colorbar": {
             "outlinewidth": 0,
             "ticks": ""
            },
            "colorscale": [
             [
              0,
              "#0d0887"
             ],
             [
              0.1111111111111111,
              "#46039f"
             ],
             [
              0.2222222222222222,
              "#7201a8"
             ],
             [
              0.3333333333333333,
              "#9c179e"
             ],
             [
              0.4444444444444444,
              "#bd3786"
             ],
             [
              0.5555555555555556,
              "#d8576b"
             ],
             [
              0.6666666666666666,
              "#ed7953"
             ],
             [
              0.7777777777777778,
              "#fb9f3a"
             ],
             [
              0.8888888888888888,
              "#fdca26"
             ],
             [
              1,
              "#f0f921"
             ]
            ],
            "type": "histogram2d"
           }
          ],
          "histogram2dcontour": [
           {
            "colorbar": {
             "outlinewidth": 0,
             "ticks": ""
            },
            "colorscale": [
             [
              0,
              "#0d0887"
             ],
             [
              0.1111111111111111,
              "#46039f"
             ],
             [
              0.2222222222222222,
              "#7201a8"
             ],
             [
              0.3333333333333333,
              "#9c179e"
             ],
             [
              0.4444444444444444,
              "#bd3786"
             ],
             [
              0.5555555555555556,
              "#d8576b"
             ],
             [
              0.6666666666666666,
              "#ed7953"
             ],
             [
              0.7777777777777778,
              "#fb9f3a"
             ],
             [
              0.8888888888888888,
              "#fdca26"
             ],
             [
              1,
              "#f0f921"
             ]
            ],
            "type": "histogram2dcontour"
           }
          ],
          "mesh3d": [
           {
            "colorbar": {
             "outlinewidth": 0,
             "ticks": ""
            },
            "type": "mesh3d"
           }
          ],
          "parcoords": [
           {
            "line": {
             "colorbar": {
              "outlinewidth": 0,
              "ticks": ""
             }
            },
            "type": "parcoords"
           }
          ],
          "pie": [
           {
            "automargin": true,
            "type": "pie"
           }
          ],
          "scatter": [
           {
            "fillpattern": {
             "fillmode": "overlay",
             "size": 10,
             "solidity": 0.2
            },
            "type": "scatter"
           }
          ],
          "scatter3d": [
           {
            "line": {
             "colorbar": {
              "outlinewidth": 0,
              "ticks": ""
             }
            },
            "marker": {
             "colorbar": {
              "outlinewidth": 0,
              "ticks": ""
             }
            },
            "type": "scatter3d"
           }
          ],
          "scattercarpet": [
           {
            "marker": {
             "colorbar": {
              "outlinewidth": 0,
              "ticks": ""
             }
            },
            "type": "scattercarpet"
           }
          ],
          "scattergeo": [
           {
            "marker": {
             "colorbar": {
              "outlinewidth": 0,
              "ticks": ""
             }
            },
            "type": "scattergeo"
           }
          ],
          "scattergl": [
           {
            "marker": {
             "colorbar": {
              "outlinewidth": 0,
              "ticks": ""
             }
            },
            "type": "scattergl"
           }
          ],
          "scattermapbox": [
           {
            "marker": {
             "colorbar": {
              "outlinewidth": 0,
              "ticks": ""
             }
            },
            "type": "scattermapbox"
           }
          ],
          "scatterpolar": [
           {
            "marker": {
             "colorbar": {
              "outlinewidth": 0,
              "ticks": ""
             }
            },
            "type": "scatterpolar"
           }
          ],
          "scatterpolargl": [
           {
            "marker": {
             "colorbar": {
              "outlinewidth": 0,
              "ticks": ""
             }
            },
            "type": "scatterpolargl"
           }
          ],
          "scatterternary": [
           {
            "marker": {
             "colorbar": {
              "outlinewidth": 0,
              "ticks": ""
             }
            },
            "type": "scatterternary"
           }
          ],
          "surface": [
           {
            "colorbar": {
             "outlinewidth": 0,
             "ticks": ""
            },
            "colorscale": [
             [
              0,
              "#0d0887"
             ],
             [
              0.1111111111111111,
              "#46039f"
             ],
             [
              0.2222222222222222,
              "#7201a8"
             ],
             [
              0.3333333333333333,
              "#9c179e"
             ],
             [
              0.4444444444444444,
              "#bd3786"
             ],
             [
              0.5555555555555556,
              "#d8576b"
             ],
             [
              0.6666666666666666,
              "#ed7953"
             ],
             [
              0.7777777777777778,
              "#fb9f3a"
             ],
             [
              0.8888888888888888,
              "#fdca26"
             ],
             [
              1,
              "#f0f921"
             ]
            ],
            "type": "surface"
           }
          ],
          "table": [
           {
            "cells": {
             "fill": {
              "color": "#EBF0F8"
             },
             "line": {
              "color": "white"
             }
            },
            "header": {
             "fill": {
              "color": "#C8D4E3"
             },
             "line": {
              "color": "white"
             }
            },
            "type": "table"
           }
          ]
         },
         "layout": {
          "annotationdefaults": {
           "arrowcolor": "#2a3f5f",
           "arrowhead": 0,
           "arrowwidth": 1
          },
          "autotypenumbers": "strict",
          "coloraxis": {
           "colorbar": {
            "outlinewidth": 0,
            "ticks": ""
           }
          },
          "colorscale": {
           "diverging": [
            [
             0,
             "#8e0152"
            ],
            [
             0.1,
             "#c51b7d"
            ],
            [
             0.2,
             "#de77ae"
            ],
            [
             0.3,
             "#f1b6da"
            ],
            [
             0.4,
             "#fde0ef"
            ],
            [
             0.5,
             "#f7f7f7"
            ],
            [
             0.6,
             "#e6f5d0"
            ],
            [
             0.7,
             "#b8e186"
            ],
            [
             0.8,
             "#7fbc41"
            ],
            [
             0.9,
             "#4d9221"
            ],
            [
             1,
             "#276419"
            ]
           ],
           "sequential": [
            [
             0,
             "#0d0887"
            ],
            [
             0.1111111111111111,
             "#46039f"
            ],
            [
             0.2222222222222222,
             "#7201a8"
            ],
            [
             0.3333333333333333,
             "#9c179e"
            ],
            [
             0.4444444444444444,
             "#bd3786"
            ],
            [
             0.5555555555555556,
             "#d8576b"
            ],
            [
             0.6666666666666666,
             "#ed7953"
            ],
            [
             0.7777777777777778,
             "#fb9f3a"
            ],
            [
             0.8888888888888888,
             "#fdca26"
            ],
            [
             1,
             "#f0f921"
            ]
           ],
           "sequentialminus": [
            [
             0,
             "#0d0887"
            ],
            [
             0.1111111111111111,
             "#46039f"
            ],
            [
             0.2222222222222222,
             "#7201a8"
            ],
            [
             0.3333333333333333,
             "#9c179e"
            ],
            [
             0.4444444444444444,
             "#bd3786"
            ],
            [
             0.5555555555555556,
             "#d8576b"
            ],
            [
             0.6666666666666666,
             "#ed7953"
            ],
            [
             0.7777777777777778,
             "#fb9f3a"
            ],
            [
             0.8888888888888888,
             "#fdca26"
            ],
            [
             1,
             "#f0f921"
            ]
           ]
          },
          "colorway": [
           "#636efa",
           "#EF553B",
           "#00cc96",
           "#ab63fa",
           "#FFA15A",
           "#19d3f3",
           "#FF6692",
           "#B6E880",
           "#FF97FF",
           "#FECB52"
          ],
          "font": {
           "color": "#2a3f5f"
          },
          "geo": {
           "bgcolor": "white",
           "lakecolor": "white",
           "landcolor": "#E5ECF6",
           "showlakes": true,
           "showland": true,
           "subunitcolor": "white"
          },
          "hoverlabel": {
           "align": "left"
          },
          "hovermode": "closest",
          "mapbox": {
           "style": "light"
          },
          "paper_bgcolor": "white",
          "plot_bgcolor": "#E5ECF6",
          "polar": {
           "angularaxis": {
            "gridcolor": "white",
            "linecolor": "white",
            "ticks": ""
           },
           "bgcolor": "#E5ECF6",
           "radialaxis": {
            "gridcolor": "white",
            "linecolor": "white",
            "ticks": ""
           }
          },
          "scene": {
           "xaxis": {
            "backgroundcolor": "#E5ECF6",
            "gridcolor": "white",
            "gridwidth": 2,
            "linecolor": "white",
            "showbackground": true,
            "ticks": "",
            "zerolinecolor": "white"
           },
           "yaxis": {
            "backgroundcolor": "#E5ECF6",
            "gridcolor": "white",
            "gridwidth": 2,
            "linecolor": "white",
            "showbackground": true,
            "ticks": "",
            "zerolinecolor": "white"
           },
           "zaxis": {
            "backgroundcolor": "#E5ECF6",
            "gridcolor": "white",
            "gridwidth": 2,
            "linecolor": "white",
            "showbackground": true,
            "ticks": "",
            "zerolinecolor": "white"
           }
          },
          "shapedefaults": {
           "line": {
            "color": "#2a3f5f"
           }
          },
          "ternary": {
           "aaxis": {
            "gridcolor": "white",
            "linecolor": "white",
            "ticks": ""
           },
           "baxis": {
            "gridcolor": "white",
            "linecolor": "white",
            "ticks": ""
           },
           "bgcolor": "#E5ECF6",
           "caxis": {
            "gridcolor": "white",
            "linecolor": "white",
            "ticks": ""
           }
          },
          "title": {
           "x": 0.05
          },
          "xaxis": {
           "automargin": true,
           "gridcolor": "white",
           "linecolor": "white",
           "ticks": "",
           "title": {
            "standoff": 15
           },
           "zerolinecolor": "white",
           "zerolinewidth": 2
          },
          "yaxis": {
           "automargin": true,
           "gridcolor": "white",
           "linecolor": "white",
           "ticks": "",
           "title": {
            "standoff": 15
           },
           "zerolinecolor": "white",
           "zerolinewidth": 2
          }
         }
        },
        "title": {
         "text": "Распределение групп шоу по годам"
        },
        "xaxis": {
         "anchor": "y",
         "domain": [
          0,
          1
         ],
         "title": {
          "text": "Release Year"
         }
        },
        "yaxis": {
         "anchor": "x",
         "domain": [
          0,
          1
         ],
         "title": {
          "text": "Number of Shows"
         }
        }
       }
      }
     },
     "metadata": {},
     "output_type": "display_data"
    }
   ],
   "source": [
    "#ns_cleared[\"rating\"].describe()\n",
    "# возьмем значения с 1970 года, чтобы получить более наглядные данные (убираем только 1 фильм 1940 года)\n",
    "\n",
    "category_distribution = ns_cleared[ns_cleared[\"release_year\"] > 1970].groupby(by=[\"release_year\", \"age_rating\"]).size().reset_index(name='count')\n",
    "\n",
    "fig = px.histogram(category_distribution, x='release_year',\n",
    "    y='count',\n",
    "    color='age_rating',\n",
    "    barmode='group',\n",
    "    title='Распределение групп шоу по годам',\n",
    "    text_auto=True)\n",
    "\n",
    "# Adjust the layout for visibility\n",
    "fig.update_layout(xaxis=dict(title='Release Year'),\n",
    "    yaxis=dict(title='Number of Shows'),\n",
    "    legend_title=\"Rating\",\n",
    "    bargap=0.2)\n",
    "fig.show()"
   ]
  },
  {
   "cell_type": "markdown",
   "metadata": {},
   "source": []
  },
  {
   "cell_type": "code",
   "execution_count": 11,
   "metadata": {},
   "outputs": [
    {
     "data": {
      "image/png": "[encoded data removed]",
      "text/plain": [
       "<Figure size 800x500 with 1 Axes>"
      ]
     },
     "metadata": {},
     "output_type": "display_data"
    }
   ],
   "source": [
    "# Количество шоу имеющих оценки по возрастным рейтингам\n",
    "\n",
    "# Удаляем строки с NaN\n",
    "ns_cleared.dropna(subset=['score'], inplace=True)  \n",
    "\n",
    "# Проверка на наличие некорректных данных\n",
    "if ns_cleared[['score']].isnull().values.any():\n",
    "    print(\"В данных остались некорректные значения\")\n",
    "\n",
    "rating_counts = ns_cleared['age_rating'].value_counts()\n",
    "\n",
    "# Построение гистограммы\n",
    "plt.figure(figsize=(8, 5))\n",
    "sns.barplot(x=rating_counts.index, y=rating_counts.values, palette=\"viridis\")\n",
    "\n",
    "# Добавление подписей\n",
    "plt.title('Количество фильмов по возрастным рейтингам')\n",
    "plt.xlabel('Возрастной рейтинг')\n",
    "plt.ylabel('Количество фильмов')\n",
    "plt.grid(axis='y', linestyle='--', alpha=0.7)\n",
    "\n",
    "# Отображение значений на столбцах\n",
    "for i, value in enumerate(rating_counts.values):\n",
    "    plt.text(i, value + 2, str(value), ha='center', fontsize=10)\n",
    "\n",
    "plt.savefig(\"assets/output/number_of_shows_of_each_age_rating.png\", dpi=300)\n",
    "\n",
    "plt.show()"
   ]
  },
  {
   "cell_type": "code",
   "execution_count": 17,
   "metadata": {},
   "outputs": [
    {
     "data": {
      "image/png": "[encoded data removed]",
      "text/plain": [
       "<Figure size 800x500 with 1 Axes>"
      ]
     },
     "metadata": {},
     "output_type": "display_data"
    }
   ],
   "source": [
    "# Посмотрим на корреляцию оценок и возрастного рейтинга шоу\n",
    "\n",
    "# Подсчет количества фильмов по возрастным рейтингам\n",
    "age_rating_counts = ns_cleared['age_rating'].value_counts().reset_index()\n",
    "age_rating_counts.columns = ['age_rating', 'count']\n",
    "\n",
    "# Расчет средней оценки и стандартного отклонения\n",
    "age_rating_stats = ns_cleared.groupby('age_rating')['score'].agg(['mean', 'std']).reset_index()\n",
    "age_rating_stats.columns = ['age_rating', 'score_mean', 'score_std']\n",
    "\n",
    "# Объединение данных\n",
    "age_rating_stats = age_rating_stats.merge(age_rating_counts, on='age_rating')\n",
    "\n",
    "# Сортировка по количеству фильмов\n",
    "age_rating_stats = age_rating_stats.sort_values(by='count', ascending=False)\n",
    "\n",
    "# Построение гистограммы\n",
    "plt.figure(figsize=(8, 5))\n",
    "ax = sns.barplot(\n",
    "    x='age_rating', \n",
    "    y='score_mean', \n",
    "    data=age_rating_stats, \n",
    "    palette=\"coolwarm\"\n",
    ")\n",
    "\n",
    "# Добавление error bars через plt.errorbar()\n",
    "plt.errorbar(\n",
    "    x=np.arange(len(age_rating_stats)),  # Индексы категорий\n",
    "    y=age_rating_stats['score_mean'],  # Средняя оценка\n",
    "    yerr=age_rating_stats['score_std'],  # Стандартное отклонение\n",
    "    fmt='none',  # Без маркеров\n",
    "    ecolor='black',  # Цвет линий ошибки\n",
    "    capsize=5,  # Длина засечек\n",
    "    capthick=1,  # Толщина засечек\n",
    "    elinewidth=1  # Толщина линии ошибки\n",
    ")\n",
    "\n",
    "# Добавление подписей к столбцам\n",
    "for i, value in enumerate(age_rating_stats['score_mean']):\n",
    "    plt.text(i, value + 0.5, f'{value:.2f}', ha='center', fontsize=10)\n",
    "\n",
    "# Оформление графика\n",
    "plt.title('Средняя оценка по возрастным рейтингам (с погрешностью)')\n",
    "plt.xlabel('Возрастной рейтинг')\n",
    "plt.ylabel('Средняя оценка')\n",
    "plt.ylim(0, 130)  # Диапазон оценок от 0 до 130\n",
    "plt.grid(axis='y', linestyle='--', alpha=0.7)\n",
    "\n",
    "plt.savefig(\"assets/output/average_shows_score_over_age_rating_with_error.png\", dpi=300)\n",
    "\n",
    "plt.show()"
   ]
  }
 ],
 "metadata": {
  "kernelspec": {
   "display_name": "env",
   "language": "python",
   "name": "python3"
  },
  "language_info": {
   "codemirror_mode": {
    "name": "ipython",
    "version": 3
   },
   "file_extension": ".py",
   "mimetype": "text/x-python",
   "name": "python",
   "nbconvert_exporter": "python",
   "pygments_lexer": "ipython3",
   "version": "3.8.5"
  }
 },
 "nbformat": 4,
 "nbformat_minor": 2
}
