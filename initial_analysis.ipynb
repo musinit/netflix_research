{
 "cells": [
  {
   "cell_type": "markdown",
   "metadata": {},
   "source": [
    "## Групповой проект команды FlexML. Exploratory Data Analysis\n",
    " - Гуськова Мария\n",
    " - Мусин Олег\n",
    " - Сухотин Олег\n",
    " - Ванцов Иван"
   ]
  },
  {
   "cell_type": "markdown",
   "metadata": {},
   "source": [
    "## Первичный анализ полученных данных\n",
    "Проведем первичную очистку данных, полученных от Netflix."
   ]
  },
  {
   "cell_type": "code",
   "execution_count": 2,
   "metadata": {},
   "outputs": [],
   "source": [
    "import numpy as np\n",
    "import pandas as pd\n",
    "import scipy.stats as sps\n",
    "import matplotlib.pyplot as plt\n",
    "import seaborn as sns\n",
    "import warnings\n",
    "warnings.filterwarnings('ignore')"
   ]
  },
  {
   "cell_type": "code",
   "execution_count": 34,
   "metadata": {},
   "outputs": [
    {
     "name": "stdout",
     "output_type": "stream",
     "text": [
      "<class 'pandas.core.frame.DataFrame'>\n",
      "RangeIndex: 1000 entries, 0 to 999\n",
      "Data columns (total 7 columns):\n",
      " #   Column             Non-Null Count  Dtype  \n",
      "---  ------             --------------  -----  \n",
      " 0   title              1000 non-null   object \n",
      " 1   rating             1000 non-null   object \n",
      " 2   ratingLevel        941 non-null    object \n",
      " 3   ratingDescription  1000 non-null   int64  \n",
      " 4   release year       1000 non-null   int64  \n",
      " 5   user rating score  605 non-null    float64\n",
      " 6   user rating size   1000 non-null   int64  \n",
      "dtypes: float64(1), int64(3), object(3)\n",
      "memory usage: 54.8+ KB\n"
     ]
    },
    {
     "data": {
      "text/html": [
       "<div>\n",
       "<style scoped>\n",
       "    .dataframe tbody tr th:only-of-type {\n",
       "        vertical-align: middle;\n",
       "    }\n",
       "\n",
       "    .dataframe tbody tr th {\n",
       "        vertical-align: top;\n",
       "    }\n",
       "\n",
       "    .dataframe thead th {\n",
       "        text-align: right;\n",
       "    }\n",
       "</style>\n",
       "<table border=\"1\" class=\"dataframe\">\n",
       "  <thead>\n",
       "    <tr style=\"text-align: right;\">\n",
       "      <th></th>\n",
       "      <th>release_year</th>\n",
       "      <th>score</th>\n",
       "      <th>size</th>\n",
       "    </tr>\n",
       "  </thead>\n",
       "  <tbody>\n",
       "    <tr>\n",
       "      <th>count</th>\n",
       "      <td>500.000000</td>\n",
       "      <td>256.000000</td>\n",
       "      <td>500.000000</td>\n",
       "    </tr>\n",
       "    <tr>\n",
       "      <th>mean</th>\n",
       "      <td>2010.976000</td>\n",
       "      <td>81.398438</td>\n",
       "      <td>80.972000</td>\n",
       "    </tr>\n",
       "    <tr>\n",
       "      <th>std</th>\n",
       "      <td>7.829305</td>\n",
       "      <td>12.730904</td>\n",
       "      <td>0.998604</td>\n",
       "    </tr>\n",
       "    <tr>\n",
       "      <th>min</th>\n",
       "      <td>1940.000000</td>\n",
       "      <td>55.000000</td>\n",
       "      <td>80.000000</td>\n",
       "    </tr>\n",
       "    <tr>\n",
       "      <th>25%</th>\n",
       "      <td>2009.000000</td>\n",
       "      <td>71.000000</td>\n",
       "      <td>80.000000</td>\n",
       "    </tr>\n",
       "    <tr>\n",
       "      <th>50%</th>\n",
       "      <td>2014.000000</td>\n",
       "      <td>83.500000</td>\n",
       "      <td>80.000000</td>\n",
       "    </tr>\n",
       "    <tr>\n",
       "      <th>75%</th>\n",
       "      <td>2016.000000</td>\n",
       "      <td>93.000000</td>\n",
       "      <td>82.000000</td>\n",
       "    </tr>\n",
       "    <tr>\n",
       "      <th>max</th>\n",
       "      <td>2017.000000</td>\n",
       "      <td>99.000000</td>\n",
       "      <td>82.000000</td>\n",
       "    </tr>\n",
       "  </tbody>\n",
       "</table>\n",
       "</div>"
      ],
      "text/plain": [
       "       release_year       score        size\n",
       "count    500.000000  256.000000  500.000000\n",
       "mean    2010.976000   81.398438   80.972000\n",
       "std        7.829305   12.730904    0.998604\n",
       "min     1940.000000   55.000000   80.000000\n",
       "25%     2009.000000   71.000000   80.000000\n",
       "50%     2014.000000   83.500000   80.000000\n",
       "75%     2016.000000   93.000000   82.000000\n",
       "max     2017.000000   99.000000   82.000000"
      ]
     },
     "execution_count": 3,
     "metadata": {},
     "output_type": "execute_result"
    }
   ],
   "source": [
    "netflix_shows = pd.read_excel('assets/NetflixShows.xlsx')\n",
    "netflix_shows.info() # для определения типа данных в колонках, анализа возможных пропусков\n",
    "netflix_shows[\"ratingDescription\"].sort_values() # для определения диапазона значений колонки\n",
    "ns_cleared = netflix_shows.drop_duplicates() # для удаление дубликатов\n",
    "ns_cleared = ns_cleared.drop('ratingLevel', axis=1) # удаляем колонку ratingLevel, ratingDescription, axis=1 = означает колонки (0 - строки)\n",
    "ns_cleared = ns_cleared.drop('ratingDescription', axis=1)\n",
    "\n",
    "ns_cleared.head\n",
    "ns_cleared.isna().sum() # посчитаем, сколько значений nan, чтобы убедиться, что они только в колонке user rating score\n",
    "\n",
    "\n",
    "# переименования для удобства\n",
    "# ratingLevel -> age_rating\n",
    "# release year -> release_year\n",
    "# user rating score -> score\n",
    "# user rating size -> size\n",
    "ns_cleared = ns_cleared.rename(columns={'rating': 'age_rating'})\n",
    "ns_cleared = ns_cleared.rename(columns={'release year': 'release_year'})\n",
    "ns_cleared = ns_cleared.rename(columns={'user rating score': 'score'})\n",
    "ns_cleared = ns_cleared.rename(columns={'user rating size': 'size'})\n",
    "ns_cleared.describe() # проанализируем данные в таблице в общем виде"
   ]
  },
  {
   "cell_type": "markdown",
   "metadata": {},
   "source": [
    "1000 записей всего.\n",
    "Разберем колонки нашего датасета и предложим спектр проблем или особенностей\n",
    "| Колонка           | Текущий тип | Комментарий                                                                                                                               |\n",
    "| ----------------- | ----------- | ----------------------------------------------------------------------------------------------------------------------------------------- |\n",
    "| title             | object      | Любая последовательность букв на латинице и цифр (есть пример - \"3%\"). Есть риск дубликатов по неполному совпадению, требуется проверить. |\n",
    "| rating            | object      | Код категории, пропусков нет                                                                                                              |\n",
    "| ratingLevel       | object      | Описаниние категории, может отсутствовать. Дополнительного смысла, отличного от ragingLevel, не несет.                                    |\n",
    "| ratingDescription | int64       | Закодированное значение рейтинга. Диапазон значений: от 10 до 124. Способ формирования - неизвестен                                       |\n",
    "| release year      | int64       | Год выпуска, пропусков нет.                                                                                                               |\n",
    "| user rating score | float64     | Числовое значение рейтинга. Может отсутствовать, вместо пропусков - NA (244 пропуска)                                                     |\n",
    "| user rating size  | int64       | Общий рейтинг пользователей. Пропусков или не-числовых значений - нет.                                                                    |\n",
    "\n",
    "\n"
   ]
  },
  {
   "cell_type": "markdown",
   "metadata": {},
   "source": [
    "EDA\n",
    " - удаление колонки ratingLevel, как не несущей дополнительного смысла\n",
    " - удаление дубликатов. В исходной таблице 500 полных дублей.\n",
    " - что у нас в таблице - фильмы и/или сериалы?\n",
    " - анализ \"похожести\" названий - сколько дублей по этому признаку?\n",
    " \n",
    "\n",
    "Результаты \"очищенного\" датасета, первые выводы:\n",
    " - данные по 500 уникальным шоу\n",
    " - данные по шоу с 1940 по 2017 год. Больше всего данных по шоу с 2014 года\n",
    "\n",
    "Далее повышаем детализацию первичного анализа и ищем более интересные признаки.\n"
   ]
  },
  {
   "cell_type": "code",
   "execution_count": 47,
   "metadata": {},
   "outputs": [],
   "source": [
    "# построим гистограмму распределения user rating score\n",
    "plt.hist(ns_cleared['score'], bins = 100, edgecolor = 'r')\n",
    "plt.xlabel('Score')\n",
    "plt.ylabel('Number of shows')\n",
    "plt.title('Shows Score Distribution')\n",
    "\n",
    "plt.savefig(\"assets/output/user_rating_score.png\", dpi=300)\n"
   ]
  },
  {
   "cell_type": "markdown",
   "metadata": {},
   "source": [
    "На основании гистограммы, видно что кол-во шоу с рейтингом выше 80 больше, чем обратных"
   ]
  },
  {
   "cell_type": "code",
   "execution_count": null,
   "metadata": {},
   "outputs": [],
   "source": [
    "# построим гистограмму распределения user rating size\n",
    "plt.hist(ns_cleared['size'], bins = 100, edgecolor = 'r')\n",
    "plt.xlabel('Size')\n",
    "plt.ylabel('Number of score size')\n",
    "plt.title('Shows Score Size Distribution')\n",
    "\n",
    "plt.savefig(\"assets/output/user_rating_size.png\", dpi=300)"
   ]
  },
  {
   "cell_type": "markdown",
   "metadata": {},
   "source": [
    "На основании гистограммы видно, что существует всего 3 типа score_size (80, 81, 82). Со слова Ю. Сночкина эти данные нам не нужны и не имеют смысла."
   ]
  },
  {
   "cell_type": "code",
   "execution_count": null,
   "metadata": {},
   "outputs": [],
   "source": [
    "# Посмотрим, как оценки на фильмы менялись во времени\n",
    "plt.figure(figsize=(12, 6))\n",
    "sns.lineplot(x='release_year', y='score', data=ns_cleared, marker='o', color='r')\n",
    "plt.title('Score Change Over Release year', fontsize=16)\n",
    "plt.xlabel('Release year', fontsize=12)\n",
    "plt.ylabel('Score', fontsize=12)\n",
    "\n",
    "plt.savefig(\"assets/output/score_change_over_release_year.png\", dpi=300)\n",
    "\n",
    "plt.show()"
   ]
  },
  {
   "cell_type": "code",
   "execution_count": null,
   "metadata": {},
   "outputs": [],
   "source": [
    "# Посмотрим, как категории фильмов менялись во времени. Посчитаем количества всех категорий по годам"
   ]
  },
  {
   "cell_type": "code",
   "execution_count": null,
   "metadata": {},
   "outputs": [],
   "source": [
    "# Количество шоу имеющих оценки по возрастным рейтингам\n",
    "\n",
    "# Удаляем строки с NaN\n",
    "ns_cleared.dropna(subset=['score'], inplace=True)  \n",
    "\n",
    "# Проверка на наличие некорректных данных\n",
    "if ns_cleared[['score']].isnull().values.any():\n",
    "    print(\"В данных остались некорректные значения\")\n",
    "\n",
    "rating_counts = ns_cleared['age_rating'].value_counts()\n",
    "\n",
    "# Построение гистограммы\n",
    "plt.figure(figsize=(8, 5))\n",
    "sns.barplot(x=rating_counts.index, y=rating_counts.values, palette=\"viridis\")\n",
    "\n",
    "# Добавление подписей\n",
    "plt.title('Количество фильмов по возрастным рейтингам')\n",
    "plt.xlabel('Возрастной рейтинг')\n",
    "plt.ylabel('Количество фильмов')\n",
    "plt.grid(axis='y', linestyle='--', alpha=0.7)\n",
    "\n",
    "# Отображение значений на столбцах\n",
    "for i, value in enumerate(rating_counts.values):\n",
    "    plt.text(i, value + 2, str(value), ha='center', fontsize=10)\n",
    "\n",
    "plt.savefig(\"assets/output/number_of_shows_of_each_age_rating.png\", dpi=300)\n",
    "\n",
    "plt.show()"
   ]
  },
  {
   "cell_type": "code",
   "execution_count": null,
   "metadata": {},
   "outputs": [],
   "source": [
    "# Посмотрим на корреляцию оценок и возрастного рейтинга шоу\n",
    "\n",
    "# Подсчет количества фильмов по возрастным рейтингам\n",
    "age_rating_counts = ns_cleared['age_rating'].value_counts().reset_index()\n",
    "age_rating_counts.columns = ['age_rating', 'count']\n",
    "\n",
    "# Рассчет средней оценки по возрастным рейтингам\n",
    "age_rating_avg = ns_cleared.groupby('age_rating')['score'].mean().reset_index()\n",
    "\n",
    "# Объединение данных\n",
    "age_rating_avg = age_rating_avg.merge(age_rating_counts, on='age_rating')\n",
    "\n",
    "# Сортировка по количеству фильмов\n",
    "age_rating_avg = age_rating_avg.sort_values(by='count', ascending=False)\n",
    "\n",
    "# Построение гистограммы\n",
    "plt.figure(figsize=(8, 5))\n",
    "sns.barplot(x='age_rating', y='score', data=age_rating_avg, palette=\"coolwarm\")\n",
    "\n",
    "# Добавление подписей к столбцам\n",
    "for i, value in enumerate(age_rating_avg['score']):\n",
    "    plt.text(i, value + 0.05, f'{value:.2f}', ha='center', fontsize=10)\n",
    "\n",
    "# Оформление графика\n",
    "plt.title('Средняя оценка по возрастным рейтингам')\n",
    "plt.xlabel('Возрастной рейтинг')\n",
    "plt.ylabel('Средняя оценка')\n",
    "plt.ylim(0, 100)  # Диапазон оценок от 0 до 100\n",
    "plt.grid(axis='y', linestyle='--', alpha=0.7)\n",
    "\n",
    "plt.savefig(\"assets/output/average_shows_score_over_age_rating.png\", dpi=300)\n",
    "\n",
    "plt.show()"
   ]
  }
 ],
 "metadata": {
  "kernelspec": {
   "display_name": "env",
   "language": "python",
   "name": "python3"
  },
  "language_info": {
   "codemirror_mode": {
    "name": "ipython",
    "version": 3
   },
   "file_extension": ".py",
   "mimetype": "text/x-python",
   "name": "python",
   "nbconvert_exporter": "python",
   "pygments_lexer": "ipython3",
   "version": "3.8.5"
  }
 },
 "nbformat": 4,
 "nbformat_minor": 2
}
