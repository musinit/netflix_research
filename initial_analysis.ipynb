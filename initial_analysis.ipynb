{
 "cells": [
  {
   "cell_type": "markdown",
   "metadata": {},
   "source": [
    "## Групповой проект команды FlexML. Exploratory Data Analysis\n",
    " - Гуськова Мария\n",
    " - Мусин Олег\n",
    " - Сухотин Олег\n",
    " - Ванцов Иван"
   ]
  },
  {
   "cell_type": "markdown",
   "metadata": {},
   "source": [
    "## Первичный анализ полученных данных\n",
    "Проведем первичную очистку данных, полученных от Netflix."
   ]
  },
  {
   "cell_type": "code",
   "execution_count": 1,
   "metadata": {},
   "outputs": [],
   "source": [
    "import numpy as np\n",
    "import pandas as pd\n",
    "import scipy.stats as sps\n",
    "import matplotlib.pyplot as plt\n",
    "import seaborn as sns\n",
    "import warnings\n",
    "import plotly.express as px\n",
    "warnings.filterwarnings('ignore')"
   ]
  },
  {
   "cell_type": "code",
   "execution_count": null,
   "metadata": {},
   "outputs": [],
   "source": [
    "netflix_shows = pd.read_excel('assets/NetflixShows.xlsx')\n",
    "netflix_shows.info() # для определения типа данных в колонках, анализа возможных пропусков\n",
    "netflix_shows[\"ratingDescription\"].sort_values() # для определения диапазона значений колонки\n",
    "ns_cleared = netflix_shows.drop_duplicates() # для удаление дубликатов\n",
    "ns_cleared = ns_cleared.drop('ratingLevel', axis=1) # удаляем колонку ratingLevel, ratingDescription, axis=1 = означает колонки (0 - строки)\n",
    "ns_cleared = ns_cleared.drop('ratingDescription', axis=1)\n",
    "\n",
    "ns_cleared.head\n",
    "ns_cleared.isna().sum() # посчитаем, сколько значений nan, чтобы убедиться, что они только в колонке user rating score\n",
    "\n",
    "\n",
    "# переименования для удобства\n",
    "# ratingLevel -> age_rating\n",
    "# release year -> release_year\n",
    "# user rating score -> score\n",
    "# user rating size -> size\n",
    "ns_cleared = ns_cleared.rename(columns={'rating': 'age_rating'})\n",
    "ns_cleared = ns_cleared.rename(columns={'release year': 'release_year'})\n",
    "ns_cleared = ns_cleared.rename(columns={'user rating score': 'score'})\n",
    "ns_cleared = ns_cleared.rename(columns={'user rating size': 'size'})\n",
    "ns_cleared.describe() # проанализируем данные в таблице в общем виде"
   ]
  },
  {
   "cell_type": "markdown",
   "metadata": {},
   "source": [
    "1000 записей всего.\n",
    "Разберем колонки нашего датасета и предложим спектр проблем или особенностей\n",
    "| Колонка           | Текущий тип | Комментарий                                                                                                                               |\n",
    "| ----------------- | ----------- | ----------------------------------------------------------------------------------------------------------------------------------------- |\n",
    "| title             | object      | Любая последовательность букв на латинице и цифр (есть пример - \"3%\"). Есть риск дубликатов по неполному совпадению, требуется проверить. |\n",
    "| rating            | object      | Код категории, пропусков нет                                                                                                              |\n",
    "| ratingLevel       | object      | Описаниние категории, может отсутствовать. Дополнительного смысла, отличного от ragingLevel, не несет.                                    |\n",
    "| ratingDescription | int64       | Закодированное значение рейтинга. Диапазон значений: от 10 до 124. Способ формирования - неизвестен                                       |\n",
    "| release year      | int64       | Год выпуска, пропусков нет.                                                                                                               |\n",
    "| user rating score | float64     | Числовое значение рейтинга. Может отсутствовать, вместо пропусков - NA (244 пропуска)                                                     |\n",
    "| user rating size  | int64       | Общий рейтинг пользователей. Пропусков или не-числовых значений - нет.                                                                    |\n",
    "\n",
    "\n"
   ]
  },
  {
   "cell_type": "markdown",
   "metadata": {},
   "source": [
    "EDA\n",
    " - удаление колонки ratingLevel, как не несущей дополнительного смысла\n",
    " - удаление дубликатов. В исходной таблице 500 полных дублей.\n",
    " - что у нас в таблице - фильмы и/или сериалы?\n",
    " - анализ \"похожести\" названий - сколько дублей по этому признаку?\n",
    " \n",
    "\n",
    "Результаты \"очищенного\" датасета, первые выводы:\n",
    " - данные по 500 уникальным шоу\n",
    " - данные по шоу с 1940 по 2017 год. Больше всего данных по шоу с 2014 года\n",
    "\n",
    "Далее повышаем детализацию первичного анализа и ищем более интересные признаки.\n"
   ]
  },
  {
   "cell_type": "code",
   "execution_count": null,
   "metadata": {},
   "outputs": [],
   "source": [
    "# построим гистограмму распределения user rating score\n",
    "plt.hist(ns_cleared['score'], bins = 100, edgecolor = 'r')\n",
    "plt.xlabel('Score')\n",
    "plt.ylabel('Number of shows')\n",
    "plt.title('Shows Score Distribution')\n",
    "\n",
    "plt.savefig(\"assets/output/user_rating_score.png\", dpi=300)\n"
   ]
  },
  {
   "cell_type": "markdown",
   "metadata": {},
   "source": [
    "На основании гистограммы, видно что кол-во шоу с рейтингом выше 80 больше, чем обратных"
   ]
  },
  {
   "cell_type": "code",
   "execution_count": null,
   "metadata": {},
   "outputs": [],
   "source": [
    "# построим гистограмму распределения user rating size\n",
    "plt.hist(ns_cleared['size'], bins = 100, edgecolor = 'r')\n",
    "plt.xlabel('Size')\n",
    "plt.ylabel('Number of score size')\n",
    "plt.title('Shows Score Size Distribution')\n",
    "\n",
    "plt.savefig(\"assets/output/user_rating_size.png\", dpi=300)"
   ]
  },
  {
   "cell_type": "markdown",
   "metadata": {},
   "source": [
    "На основании гистограммы видно, что существует всего 3 типа score_size (80, 81, 82). Со слова Ю. Сночкина эти данные нам не нужны и не имеют смысла."
   ]
  },
  {
   "cell_type": "code",
   "execution_count": null,
<<<<<<< HEAD
   "metadata": {},
   "outputs": [],
   "source": [
    "# Посмотрим, как оценки на фильмы менялись во времени\n",
    "plt.figure(figsize=(12, 6))\n",
    "sns.lineplot(x='release_year', y='score', data=ns_cleared, marker='o', color='r')\n",
    "plt.title('Score Change Over Release year', fontsize=16)\n",
    "plt.xlabel('Release year', fontsize=12)\n",
    "plt.ylabel('Score', fontsize=12)\n",
    "\n",
    "plt.savefig(\"assets/output/score_change_over_release_year.png\", dpi=300)\n",
    "\n",
    "plt.show()"
   ]
  },
  {
   "cell_type": "code",
   "execution_count": 53,
   "metadata": {},
   "outputs": [
    {
     "data": {
      "text/plain": [
       "count       500\n",
       "unique       13\n",
       "top       TV-14\n",
       "freq        106\n",
       "Name: rating, dtype: object"
      ]
     },
     "execution_count": 53,
     "metadata": {},
     "output_type": "execute_result"
    }
   ],
   "source": [
    "# Посмотрим, как категории фильмов менялись во времени. Посчитаем количества всех категорий по годам."
   ]
  },
  {
   "cell_type": "markdown",
   "metadata": {},
   "source": [
    "Проанализируем возрастные категории шоу.\n",
    "Уникальных категорий: 13.\n",
    "Самая популярная: TV-14.\n",
    "\n",
    "Проанализируем кол-во шоу в разных категориях"
   ]
  },
  {
   "cell_type": "code",
   "execution_count": null,
   "metadata": {},
   "outputs": [],
   "source": [
    "#ns_cleared[\"rating\"].describe()\n",
    "# возьмем значения с 1970 года, чтобы получить более наглядные данные (убираем только 1 фильм 1940 года)\n",
    "\n",
    "category_distribution = ns_cleared[ns_cleared[\"release_year\"] > 1970].groupby(by=[\"release_year\", \"age_rating\"]).size().reset_index(name='count')\n",
    "\n",
    "fig = px.histogram(category_distribution, x='release_year',\n",
    "    y='count',\n",
    "    color='age_rating',\n",
    "    barmode='group',\n",
    "    title='Распределение групп шоу по годам',\n",
    "    text_auto=True)\n",
    "\n",
    "# Adjust the layout for visibility\n",
    "fig.update_layout(xaxis=dict(title='Release Year'),\n",
    "    yaxis=dict(title='Number of Shows'),\n",
    "    legend_title=\"Rating\",\n",
    "    bargap=0.2)\n",
    "fig.show()"
   ]
  },
  {
   "cell_type": "markdown",
   "metadata": {},
   "source": []
  },
  {
   "cell_type": "code",
   "execution_count": 12,
   "metadata": {},
   "outputs": [
    {
     "data": {
      "image/png": "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",
      "text/plain": [
       "<Figure size 800x500 with 1 Axes>"
      ]
     },
     "metadata": {},
     "output_type": "display_data"
    }
   ],
=======
   "metadata": {},
   "outputs": [],
>>>>>>> a4dbb016905a668a020e0864e0c8c82bbdb6bedb
   "source": [
    "# Количество шоу имеющих оценки по возрастным рейтингам\n",
    "\n",
    "# Удаляем строки с NaN\n",
    "ns_cleared.dropna(subset=['score'], inplace=True)  \n",
    "\n",
    "# Проверка на наличие некорректных данных\n",
    "if ns_cleared[['score']].isnull().values.any():\n",
    "    print(\"В данных остались некорректные значения\")\n",
    "\n",
    "rating_counts = ns_cleared['age_rating'].value_counts()\n",
    "\n",
    "# Построение гистограммы\n",
    "plt.figure(figsize=(8, 5))\n",
    "sns.barplot(x=rating_counts.index, y=rating_counts.values, palette=\"viridis\")\n",
    "\n",
    "# Добавление подписей\n",
    "plt.title('Количество фильмов по возрастным рейтингам')\n",
    "plt.xlabel('Возрастной рейтинг')\n",
    "plt.ylabel('Количество фильмов')\n",
    "plt.grid(axis='y', linestyle='--', alpha=0.7)\n",
    "\n",
    "# Отображение значений на столбцах\n",
    "for i, value in enumerate(rating_counts.values):\n",
    "    plt.text(i, value + 2, str(value), ha='center', fontsize=10)\n",
    "\n",
    "plt.savefig(\"assets/output/number_of_shows_of_each_age_rating.png\", dpi=300)\n",
    "\n",
    "plt.show()"
   ]
  },
  {
   "cell_type": "code",
   "execution_count": 53,
   "metadata": {},
   "outputs": [
    {
     "data": {
      "text/plain": [
       "count       500\n",
       "unique       13\n",
       "top       TV-14\n",
       "freq        106\n",
       "Name: rating, dtype: object"
      ]
     },
     "execution_count": 53,
     "metadata": {},
     "output_type": "execute_result"
    }
   ],
   "source": [
    "# Посмотрим, как категории фильмов менялись во времени. Посчитаем количества всех категорий по годам."
   ]
  },
  {
   "cell_type": "markdown",
   "metadata": {},
   "source": [
    "Проанализируем возрастные категории шоу.\n",
    "Уникальных категорий: 13.\n",
    "Самая популярная: TV-14.\n",
    "\n",
    "Проанализируем кол-во шоу в разных категориях"
   ]
  },
  {
   "cell_type": "code",
   "execution_count": null,
   "metadata": {},
   "outputs": [],
   "source": [
<<<<<<< HEAD
    "# Посмотрим на корреляцию оценок и возрастного рейтинга шоу\n",
    "\n",
    "# Подсчет количества фильмов по возрастным рейтингам\n",
    "age_rating_counts = ns_cleared['age_rating'].value_counts().reset_index()\n",
    "age_rating_counts.columns = ['age_rating', 'count']\n",
    "\n",
    "# Рассчет средней оценки по возрастным рейтингам\n",
    "age_rating_avg = ns_cleared.groupby('age_rating')['score'].mean().reset_index()\n",
    "\n",
    "# Объединение данных\n",
    "age_rating_avg = age_rating_avg.merge(age_rating_counts, on='age_rating')\n",
    "\n",
    "# Сортировка по количеству фильмов\n",
    "age_rating_avg = age_rating_avg.sort_values(by='count', ascending=False)\n",
    "\n",
    "# Построение гистограммы\n",
    "plt.figure(figsize=(8, 5))\n",
    "sns.barplot(x='age_rating', y='score', data=age_rating_avg, palette=\"coolwarm\")\n",
    "\n",
    "# Добавление подписей к столбцам\n",
    "for i, value in enumerate(age_rating_avg['score']):\n",
    "    plt.text(i, value + 0.05, f'{value:.2f}', ha='center', fontsize=10)\n",
    "\n",
    "# Оформление графика\n",
    "plt.title('Средняя оценка по возрастным рейтингам')\n",
    "plt.xlabel('Возрастной рейтинг')\n",
    "plt.ylabel('Средняя оценка')\n",
    "plt.ylim(0, 100)  # Диапазон оценок от 0 до 100\n",
    "plt.grid(axis='y', linestyle='--', alpha=0.7)\n",
    "\n",
    "plt.savefig(\"assets/output/average_shows_score_over_age_rating.png\", dpi=300)\n",
    "\n",
    "plt.show()"
=======
    "#ns_cleared[\"rating\"].describe()\n",
    "# возьмем значения с 1970 года, чтобы получить более наглядные данные (убираем только 1 фильм 1940 года)\n",
    "category_distribution = ns_cleared[ns_cleared[\"release\"] > 1970].groupby(by=[\"release\", \"rating\"]).size().reset_index(name='count')\n",
    "category_distribution.describe\n",
    "\n",
    "fig = px.histogram(category_distribution, x='release',\n",
    "    y='count',\n",
    "    color='rating',\n",
    "    barmode='group',\n",
    "    title='Распределение групп шоу по годам',\n",
    "    text_auto=True)\n",
    "\n",
    "# Adjust the layout for visibility\n",
    "fig.update_layout(xaxis=dict(title='Release Year'),\n",
    "    yaxis=dict(title='Number of Shows'),\n",
    "    legend_title=\"Rating\",\n",
    "    bargap=0.2)\n",
    "fig.show()"
   ]
  },
  {
   "cell_type": "markdown",
   "metadata": {},
   "source": []
  },
  {
   "cell_type": "code",
   "execution_count": null,
   "metadata": {},
   "outputs": [],
   "source": [
    "# Посмотрим на корреляцию оценок и рейтинга фильма"
>>>>>>> a4dbb016905a668a020e0864e0c8c82bbdb6bedb
   ]
  }
 ],
 "metadata": {
  "kernelspec": {
   "display_name": "env",
   "language": "python",
   "name": "python3"
  },
  "language_info": {
   "codemirror_mode": {
    "name": "ipython",
    "version": 3
   },
   "file_extension": ".py",
   "mimetype": "text/x-python",
   "name": "python",
   "nbconvert_exporter": "python",
   "pygments_lexer": "ipython3",
   "version": "3.13.0"
  }
 },
 "nbformat": 4,
 "nbformat_minor": 2
}
